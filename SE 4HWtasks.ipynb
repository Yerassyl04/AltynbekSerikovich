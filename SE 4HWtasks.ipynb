{
 "cells": [
  {
   "cell_type": "markdown",
   "id": "b73c1abf",
   "metadata": {},
   "source": [
    "# LIST"
   ]
  },
  {
   "cell_type": "code",
   "execution_count": 1,
   "id": "37477777",
   "metadata": {},
   "outputs": [
    {
     "name": "stdout",
     "output_type": "stream",
     "text": [
      "[1, 2, 3, 4, 5, 6, 7, 8]\n",
      "[1, 1, 2, 4, 5, 6, 7, 8]\n",
      "[7, 6, 5, 4, 2, 1, 1]\n"
     ]
    }
   ],
   "source": [
    "l= [1, 2, 3, 4, 5, 6, 7]\n",
    "l.insert(7, 8) #1\n",
    "print(l) #2\n",
    "l.remove(3) #3\n",
    "l.append(1) #4\n",
    "l.sort() \n",
    "print(l) #5\n",
    "l.pop(-1) #6\n",
    "l.reverse() #7\n",
    "print(l)"
   ]
  },
  {
   "cell_type": "code",
   "execution_count": 3,
   "id": "4e935b3b",
   "metadata": {},
   "outputs": [
    {
     "name": "stdout",
     "output_type": "stream",
     "text": [
      "num: 6\n",
      "method: append 6\n",
      "method: append 7\n",
      "method: append 8\n",
      "method: append 9\n",
      "method: remove 8\n",
      "method: print\n",
      "[6, 7, 9]\n"
     ]
    }
   ],
   "source": [
    "N = int(input('num: '))\n",
    "l = []\n",
    "for i in range(N):\n",
    "    typ = input('method: ').split()\n",
    "    name = typ[0]\n",
    "    num = typ[1:]\n",
    "    if name == 'insert':\n",
    "        l.insert(int(num[0]), int(num[1]))\n",
    "    elif name == 'remove':\n",
    "        l.remove(int(num[0]))\n",
    "    elif name == 'append':\n",
    "        l.append(int(num[0]))\n",
    "    elif name == 'pop':\n",
    "        l.pop()\n",
    "    elif name == 'sort':\n",
    "        l.sort()\n",
    "    elif name == 'reverse':\n",
    "        l.reverse()\n",
    "    elif name == 'print':\n",
    "        print(l)\n"
   ]
  },
  {
   "cell_type": "markdown",
   "id": "0656faac",
   "metadata": {},
   "source": [
    "# Upper - Lower cases"
   ]
  },
  {
   "cell_type": "code",
   "execution_count": 5,
   "id": "d270c70e",
   "metadata": {},
   "outputs": [
    {
     "name": "stdout",
     "output_type": "stream",
     "text": [
      "enter string JKHCfesgxg\n",
      "jkhcFESGXG\n"
     ]
    }
   ],
   "source": [
    "s = input('enter string ')\n",
    "lis = []\n",
    "for i in s:\n",
    "    if i.isupper():\n",
    "        lis.append(i.lower())\n",
    "    if i.islower():\n",
    "        lis.append(i.upper())\n",
    "kas = ''.join(lis)\n",
    "print(kas)"
   ]
  },
  {
   "cell_type": "code",
   "execution_count": 9,
   "id": "44b31522",
   "metadata": {},
   "outputs": [
    {
     "name": "stdout",
     "output_type": "stream",
     "text": [
      "enter string HGHDFYjghfh\n",
      "hghdfyJGHFH\n"
     ]
    }
   ],
   "source": [
    "s = input('enter string ')\n",
    "x = s.swapcase()\n",
    "print(x)"
   ]
  },
  {
   "cell_type": "markdown",
   "id": "61cce948",
   "metadata": {},
   "source": [
    "# '-'  add Hyphen task"
   ]
  },
  {
   "cell_type": "code",
   "execution_count": 9,
   "id": "6c10f339",
   "metadata": {},
   "outputs": [
    {
     "name": "stdout",
     "output_type": "stream",
     "text": [
      "Enter ur string: THis is my string\n",
      "THis-is-my-string\n"
     ]
    }
   ],
   "source": [
    "a = input('Enter ur string: ')\n",
    "a = a.split(' ')\n",
    "a = '-'.join(a)\n",
    "print(a)"
   ]
  },
  {
   "cell_type": "markdown",
   "id": "b1ab3467",
   "metadata": {},
   "source": [
    "# Firstname and lastname task"
   ]
  },
  {
   "cell_type": "code",
   "execution_count": 12,
   "id": "e8ae278e",
   "metadata": {},
   "outputs": [
    {
     "name": "stdout",
     "output_type": "stream",
     "text": [
      "Enter ur name: Yerassyl\n",
      "Enter ur lastname: Iskakov\n",
      "Hello  Yerassyl Iskakov u just delved into python!\n"
     ]
    }
   ],
   "source": [
    "name = input('Enter ur name: ')\n",
    "last = input('Enter ur lastname: ')\n",
    "both = name+' ' + last\n",
    "print('Hello ', both,  'u just delved into python!')"
   ]
  },
  {
   "cell_type": "markdown",
   "id": "909ef960",
   "metadata": {},
   "source": [
    "# Change position task (start from 0)"
   ]
  },
  {
   "cell_type": "code",
   "execution_count": 14,
   "id": "49376d5b",
   "metadata": {
    "scrolled": true
   },
   "outputs": [
    {
     "name": "stdout",
     "output_type": "stream",
     "text": [
      "string: abracadabra\n",
      "position: 5\n",
      "letter: k\n",
      "New str abrackdabra\n"
     ]
    }
   ],
   "source": [
    "s= input(\"string: \")\n",
    "position = int(input(\"position: \"))\n",
    "letter = input(\"letter: \")\n",
    "lis = list(s)\n",
    "lis[position] = letter \n",
    "newl = ''.join(lis)\n",
    "\n",
    "print(\"New str\", newl)\n"
   ]
  },
  {
   "cell_type": "code",
   "execution_count": 13,
   "id": "bb067d9c",
   "metadata": {},
   "outputs": [
    {
     "name": "stdout",
     "output_type": "stream",
     "text": [
      "Enter the string: dgjgxds\n",
      "position: 2\n",
      "letter: a\n",
      "dgajgxds\n"
     ]
    }
   ],
   "source": [
    "s= list(input(\"Enter the string: \"))\n",
    "position = int(input(\"position: \"))\n",
    "letter = input(\"letter: \")\n",
    "s.insert(position, letter,)\n",
    "print(''.join(s))"
   ]
  },
  {
   "cell_type": "markdown",
   "id": "2048cfe4",
   "metadata": {},
   "source": [
    "# Occurs substring task"
   ]
  },
  {
   "cell_type": "code",
   "execution_count": 15,
   "id": "a548ed74",
   "metadata": {},
   "outputs": [
    {
     "name": "stdout",
     "output_type": "stream",
     "text": [
      "string: Yerasasyl\n",
      "substring: as\n",
      "Number of occurrences: 2\n"
     ]
    }
   ],
   "source": [
    "st = input(\"string: \")\n",
    "sub = input(\"substring: \")\n",
    "count = st.count(sub)\n",
    "print(\"Number of occurrences:\", count)\n"
   ]
  },
  {
   "cell_type": "markdown",
   "id": "72076326",
   "metadata": {},
   "source": [
    "# Wrap the string into n"
   ]
  },
  {
   "cell_type": "code",
   "execution_count": 18,
   "id": "6cf7e83b",
   "metadata": {},
   "outputs": [
    {
     "name": "stdout",
     "output_type": "stream",
     "text": [
      "Enter the str: yerass\n",
      "Enter the num: 2\n",
      "ye\n",
      "ra\n",
      "ss\n",
      "\n"
     ]
    }
   ],
   "source": [
    "s = input('Enter the str: ')\n",
    "n = int(input('Enter the num: '))\n",
    "for i in range(0, len(s)+1, n):\n",
    "    print(s[i:i+n])\n",
    "    \n",
    "\n",
    "    \n"
   ]
  },
  {
   "cell_type": "markdown",
   "id": "e1d201cf",
   "metadata": {},
   "source": [
    "# Integer n into bin hex oct dec"
   ]
  },
  {
   "cell_type": "code",
   "execution_count": null,
   "id": "330c2d5c",
   "metadata": {},
   "outputs": [],
   "source": []
  },
  {
   "cell_type": "markdown",
   "id": "c8338a27",
   "metadata": {},
   "source": [
    "# Capitalize task"
   ]
  },
  {
   "cell_type": "code",
   "execution_count": 38,
   "id": "a001e647",
   "metadata": {},
   "outputs": [
    {
     "name": "stdout",
     "output_type": "stream",
     "text": [
      "Enter ur name: df ffg fhg\n",
      "Df Ffg Fhg\n"
     ]
    }
   ],
   "source": [
    "full = input('Enter ur name: ').split(' ')\n",
    "full = [word.capitalize() for word in full]\n",
    "print(' '.join(full))\n"
   ]
  },
  {
   "cell_type": "code",
   "execution_count": 19,
   "id": "5b4210c6",
   "metadata": {},
   "outputs": [
    {
     "name": "stdout",
     "output_type": "stream",
     "text": [
      "Enter ur name: yera isk kai\n",
      "Yera Isk Kai\n"
     ]
    }
   ],
   "source": [
    "full = input('Enter ur name: ')\n",
    "b = full.title()\n",
    "print(b)"
   ]
  },
  {
   "cell_type": "markdown",
   "id": "31362dc4",
   "metadata": {},
   "source": [
    "# Cartesian product A*B"
   ]
  },
  {
   "cell_type": "code",
   "execution_count": 20,
   "id": "039658ba",
   "metadata": {},
   "outputs": [
    {
     "name": "stdout",
     "output_type": "stream",
     "text": [
      "Enter number: 1 2 3\n",
      "Enter number: 4 5\n",
      "[('1', '4'), ('1', '5'), ('2', '4'), ('2', '5'), ('3', '4'), ('3', '5')]\n"
     ]
    }
   ],
   "source": [
    "A = input('Enter number: ').split(' ')\n",
    "B = input('Enter number: ').split(' ')\n",
    "s= []\n",
    "for a in A:\n",
    "    for b in B:\n",
    "        s.append((a,b))\n",
    "print(s)"
   ]
  },
  {
   "cell_type": "markdown",
   "id": "d17116d5",
   "metadata": {},
   "source": [
    "# Possible permutions"
   ]
  },
  {
   "cell_type": "markdown",
   "id": "08f81583",
   "metadata": {},
   "source": [
    "Itertools — это Python-модуль, который предоставляет набор функций для работы с итерируемыми объектами. Итерируемый объект — это любой объект, предоставляющий возможность пройти по своим элементам, например список, кортеж и словарь. Itertools позволяет выполнять стандартные операции с итерируемыми объектами, такие как фильтрация, группировка и объединение."
   ]
  },
  {
   "cell_type": "code",
   "execution_count": 56,
   "id": "860d604a",
   "metadata": {
    "scrolled": true
   },
   "outputs": [
    {
     "name": "stdout",
     "output_type": "stream",
     "text": [
      "Enter a string: Hack\n",
      "Enter the number of letters in combinations: 2\n",
      "Ha\n",
      "Hc\n",
      "Hk\n",
      "ac\n",
      "ak\n",
      "ck\n"
     ]
    }
   ],
   "source": [
    "from itertools import combinations\n",
    "\n",
    "S = input(\"Str: \")\n",
    "n = int(input(\"Nums: \"))\n",
    "\n",
    "for i in combinations(sorted(S), n):\n",
    "    print(\"\".join(i))\n",
    "\n"
   ]
  },
  {
   "cell_type": "code",
   "execution_count": 28,
   "id": "0a358bf1",
   "metadata": {},
   "outputs": [
    {
     "name": "stdout",
     "output_type": "stream",
     "text": [
      "str: yera\n",
      "num 2\n",
      "['ye', 'yr', 'ya', 'er', 'ea', 'ra']\n"
     ]
    }
   ],
   "source": [
    "S = input(\"str: \")\n",
    "n = int(input(\"num \"))\n",
    "l = []\n",
    "\n",
    "for i in range(len(S)):\n",
    "    for j in range(i + 1, len(S)):\n",
    "        per = S[i] + S[j]\n",
    "        l.append(per)\n",
    "\n",
    "print(l)\n"
   ]
  },
  {
   "cell_type": "markdown",
   "id": "b0cf2b6f",
   "metadata": {},
   "source": [
    "# FINd avarage"
   ]
  },
  {
   "cell_type": "code",
   "execution_count": 22,
   "id": "318f9948",
   "metadata": {},
   "outputs": [
    {
     "name": "stdout",
     "output_type": "stream",
     "text": [
      "Enter size: 5\n",
      "15\n",
      "15\n",
      "15\n",
      "15\n",
      "15\n",
      "Your answer is: 15.0\n"
     ]
    }
   ],
   "source": [
    "n = int(input('Enter size: '))\n",
    "su = 0\n",
    "for i in range(n):\n",
    "    c = int(input(''))\n",
    "    su = su + c\n",
    "print('Your answer is:', su/n)"
   ]
  },
  {
   "cell_type": "markdown",
   "id": "07f2d4c6",
   "metadata": {},
   "source": [
    "# Triangle task"
   ]
  },
  {
   "cell_type": "code",
   "execution_count": 36,
   "id": "b1fb7462",
   "metadata": {},
   "outputs": [
    {
     "name": "stdout",
     "output_type": "stream",
     "text": [
      "AB: 10\n",
      "BC: 10\n",
      "43.56\n"
     ]
    }
   ],
   "source": [
    "from math import sqrt, cos, pi\n",
    "AB = int(input('AB: '))\n",
    "BC = int(input('BC: '))\n",
    "AC = sqrt(AB**2+BC**2)\n",
    "cosA = (AC**2+AB**2-BC**2)/(2*AC*BC) \n",
    "A = cos(cosA)\n",
    "angle = A*180/pi\n",
    "print(round(angle, 2))"
   ]
  },
  {
   "cell_type": "code",
   "execution_count": null,
   "id": "35d7b288",
   "metadata": {},
   "outputs": [],
   "source": []
  }
 ],
 "metadata": {
  "kernelspec": {
   "display_name": "Python 3 (ipykernel)",
   "language": "python",
   "name": "python3"
  },
  "language_info": {
   "codemirror_mode": {
    "name": "ipython",
    "version": 3
   },
   "file_extension": ".py",
   "mimetype": "text/x-python",
   "name": "python",
   "nbconvert_exporter": "python",
   "pygments_lexer": "ipython3",
   "version": "3.11.4"
  }
 },
 "nbformat": 4,
 "nbformat_minor": 5
}
