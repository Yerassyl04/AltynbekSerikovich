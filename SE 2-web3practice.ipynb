{
 "cells": [
  {
   "cell_type": "code",
   "execution_count": 1,
   "id": "8c8908d6",
   "metadata": {},
   "outputs": [
    {
     "name": "stdout",
     "output_type": "stream",
     "text": [
      "Hello Yerassyl\n"
     ]
    }
   ],
   "source": [
    "print('Hello Yerassyl')"
   ]
  },
  {
   "cell_type": "code",
   "execution_count": 2,
   "id": "4a7e54da",
   "metadata": {},
   "outputs": [
    {
     "name": "stdout",
     "output_type": "stream",
     "text": [
      "HelloYera\n"
     ]
    }
   ],
   "source": [
    "a = 'Hello'\n",
    "b = 'Yera'\n",
    "print(a+b)"
   ]
  },
  {
   "cell_type": "code",
   "execution_count": 3,
   "id": "58b517cc",
   "metadata": {},
   "outputs": [
    {
     "data": {
      "text/plain": [
       "'\\nHello comment\\n'"
      ]
     },
     "execution_count": 3,
     "metadata": {},
     "output_type": "execute_result"
    }
   ],
   "source": [
    "\"\"\"\n",
    "Hello comment\n",
    "\"\"\""
   ]
  },
  {
   "cell_type": "code",
   "execution_count": 9,
   "id": "5d291834",
   "metadata": {},
   "outputs": [
    {
     "name": "stdout",
     "output_type": "stream",
     "text": [
      "job \n"
     ]
    }
   ],
   "source": [
    "st = 'Goood job dad'\n",
    "print(st[6:10])"
   ]
  },
  {
   "cell_type": "code",
   "execution_count": 13,
   "id": "fdbe62a0",
   "metadata": {},
   "outputs": [
    {
     "name": "stdout",
     "output_type": "stream",
     "text": [
      "job\n"
     ]
    }
   ],
   "source": [
    "if 'job' in st:\n",
    "    print('job')"
   ]
  },
  {
   "cell_type": "code",
   "execution_count": 17,
   "id": "1d33d97f",
   "metadata": {},
   "outputs": [
    {
     "name": "stdout",
     "output_type": "stream",
     "text": [
      "a\n"
     ]
    }
   ],
   "source": [
    "if 'a' in 'Yeraaa':\n",
    "    print(a)"
   ]
  },
  {
   "cell_type": "code",
   "execution_count": 18,
   "id": "f633aa63",
   "metadata": {},
   "outputs": [
    {
     "name": "stdout",
     "output_type": "stream",
     "text": [
      "Y\n",
      "E\n",
      "r\n"
     ]
    }
   ],
   "source": [
    "for h in 'YEr':\n",
    "    print(h)"
   ]
  },
  {
   "cell_type": "code",
   "execution_count": 19,
   "id": "7670d6f2",
   "metadata": {},
   "outputs": [
    {
     "name": "stdout",
     "output_type": "stream",
     "text": [
      "4\n"
     ]
    }
   ],
   "source": [
    "print(len(b))"
   ]
  },
  {
   "cell_type": "code",
   "execution_count": 20,
   "id": "478204a0",
   "metadata": {},
   "outputs": [
    {
     "name": "stdout",
     "output_type": "stream",
     "text": [
      "Yes veriable, 'love' contain\n"
     ]
    }
   ],
   "source": [
    "txt = \"I love my country!\"\n",
    "if \"love\" in txt:\n",
    "  print(\"Yes veriable, 'love' contain\")"
   ]
  },
  {
   "cell_type": "code",
   "execution_count": 21,
   "id": "5c5dd3ed",
   "metadata": {},
   "outputs": [
    {
     "name": "stdout",
     "output_type": "stream",
     "text": [
      "False\n"
     ]
    }
   ],
   "source": [
    "print('Kaz' in txt)"
   ]
  },
  {
   "cell_type": "code",
   "execution_count": 22,
   "id": "7a1562f0",
   "metadata": {},
   "outputs": [
    {
     "name": "stdout",
     "output_type": "stream",
     "text": [
      "True\n"
     ]
    }
   ],
   "source": [
    "print('kaz' not in txt)"
   ]
  },
  {
   "cell_type": "markdown",
   "id": "1d9217cc",
   "metadata": {},
   "source": [
    "# Slicing"
   ]
  },
  {
   "cell_type": "code",
   "execution_count": 24,
   "id": "fe9d5c82",
   "metadata": {},
   "outputs": [
    {
     "name": "stdout",
     "output_type": "stream",
     "text": [
      "My name is Yer\n",
      "My name\n",
      "is \n",
      "is Ye\n"
     ]
    }
   ],
   "source": [
    "var = 'My name is Yer'\n",
    "print(var[::])\n",
    "print(var[:7])\n",
    "print(var[8:11])\n",
    "print(var[-6:-1])"
   ]
  },
  {
   "cell_type": "markdown",
   "id": "9945ea4f",
   "metadata": {},
   "source": [
    "# Modify string"
   ]
  },
  {
   "cell_type": "code",
   "execution_count": 27,
   "id": "fdd44235",
   "metadata": {},
   "outputs": [
    {
     "name": "stdout",
     "output_type": "stream",
     "text": [
      "MY NAME IS YER\n",
      "my name is yer\n",
      "My name is Yer\n",
      "My name is Yerassyl\n",
      "['My name is Yer']\n"
     ]
    }
   ],
   "source": [
    "print(var.upper())\n",
    "print(var.lower())\n",
    "print(var.strip()) #The strip() method removes any whitespace from the beginning or the end:\n",
    "print(var.replace('Yer', 'Yerassyl'))\n",
    "print(var.split(',')) #The split() method splits the string into substrings if it finds instances of the separator:"
   ]
  },
  {
   "cell_type": "code",
   "execution_count": 29,
   "id": "e526fd75",
   "metadata": {},
   "outputs": [
    {
     "name": "stdout",
     "output_type": "stream",
     "text": [
      "YeraDos\n",
      "Yera Dos\n"
     ]
    }
   ],
   "source": [
    "boy = 'Yera'\n",
    "girl = 'Dos'\n",
    "print(boy+girl)\n",
    "print(boy+' '+girl)"
   ]
  },
  {
   "cell_type": "markdown",
   "id": "ed0e37f6",
   "metadata": {},
   "source": [
    "# Format"
   ]
  },
  {
   "cell_type": "code",
   "execution_count": 32,
   "id": "5b97d761",
   "metadata": {},
   "outputs": [
    {
     "ename": "TypeError",
     "evalue": "can only concatenate str (not \"int\") to str",
     "output_type": "error",
     "traceback": [
      "\u001b[1;31m---------------------------------------------------------------------------\u001b[0m",
      "\u001b[1;31mTypeError\u001b[0m                                 Traceback (most recent call last)",
      "Cell \u001b[1;32mIn[32], line 2\u001b[0m\n\u001b[0;32m      1\u001b[0m age \u001b[38;5;241m=\u001b[39m \u001b[38;5;241m36\u001b[39m\n\u001b[1;32m----> 2\u001b[0m txt\u001b[38;5;241m=\u001b[39mtxt\u001b[38;5;241m+\u001b[39mage\n\u001b[0;32m      3\u001b[0m \u001b[38;5;28mprint\u001b[39m(txt)\n",
      "\u001b[1;31mTypeError\u001b[0m: can only concatenate str (not \"int\") to str"
     ]
    }
   ],
   "source": [
    "age = 36\n",
    "txt=txt+age\n",
    "print(txt) # so its error "
   ]
  },
  {
   "cell_type": "code",
   "execution_count": 34,
   "id": "63bc67a9",
   "metadata": {},
   "outputs": [
    {
     "name": "stdout",
     "output_type": "stream",
     "text": [
      "My name is Yera, and I am 18\n"
     ]
    }
   ],
   "source": [
    "age = 18\n",
    "tec = \"My name is Yera, and I am {}\"\n",
    "print(tec.format(age))"
   ]
  },
  {
   "cell_type": "code",
   "execution_count": 39,
   "id": "3a60f38d",
   "metadata": {},
   "outputs": [
    {
     "name": "stdout",
     "output_type": "stream",
     "text": [
      "My name is Yera, and I am will be 19 in september 29\n"
     ]
    }
   ],
   "source": [
    "ages = 19\n",
    "sep = 29\n",
    "tec2 =\"My name is Yera, and I am will be {0} in september {1}\"\n",
    "print(tec2.format(ages, sep))"
   ]
  },
  {
   "cell_type": "markdown",
   "id": "69b8c633",
   "metadata": {},
   "source": [
    "# Escape Characters"
   ]
  },
  {
   "cell_type": "code",
   "execution_count": 43,
   "id": "0f42a7cd",
   "metadata": {},
   "outputs": [
    {
     "name": "stdout",
     "output_type": "stream",
     "text": [
      "My name \"is\" Yera.\n"
     ]
    }
   ],
   "source": [
    "txt = \"My name \\\"is\\\" Yera.\"   #  use this \\\"\n",
    "print(txt)"
   ]
  },
  {
   "cell_type": "code",
   "execution_count": 44,
   "id": "8bf5b1ad",
   "metadata": {},
   "outputs": [
    {
     "name": "stdout",
     "output_type": "stream",
     "text": [
      "My name \\is\\ Yera.\n"
     ]
    }
   ],
   "source": [
    "txt = \"My name \\\\is\\\\ Yera.\" \n",
    "print(txt)"
   ]
  },
  {
   "cell_type": "code",
   "execution_count": 45,
   "id": "e3bc2760",
   "metadata": {},
   "outputs": [
    {
     "name": "stdout",
     "output_type": "stream",
     "text": [
      "My name \n",
      "is\n",
      " Yera.\n"
     ]
    }
   ],
   "source": [
    "txt = \"My name \\nis\\n Yera.\" \n",
    "print(txt)"
   ]
  },
  {
   "cell_type": "markdown",
   "id": "dbf436f6",
   "metadata": {},
   "source": [
    "# String Methods"
   ]
  },
  {
   "cell_type": "code",
   "execution_count": 56,
   "id": "f3b559c3",
   "metadata": {},
   "outputs": [
    {
     "name": "stdout",
     "output_type": "stream",
     "text": [
      "Yerassyll\n",
      "4\n",
      "7\n",
      "False\n",
      "False\n"
     ]
    }
   ],
   "source": [
    "na = \"YERassYLL\"\n",
    "print(na.capitalize())\n",
    "print(na.find('s'))\n",
    "print(na.index('L'))\n",
    "print(na.isdigit())\n",
    "print(na.isupper())"
   ]
  },
  {
   "cell_type": "markdown",
   "id": "01a5c58e",
   "metadata": {},
   "source": [
    "#  Conditions IF-Else statments"
   ]
  },
  {
   "cell_type": "code",
   "execution_count": 58,
   "id": "9c59b2a2",
   "metadata": {},
   "outputs": [
    {
     "name": "stdout",
     "output_type": "stream",
     "text": [
      "Not error\n"
     ]
    }
   ],
   "source": [
    "d1 = 49\n",
    "d2 = 60.3\n",
    "d3 = 4+9j\n",
    "d4 = 200\n",
    "if d1>d2:\n",
    "    print('Yes stat is true')\n",
    "else:\n",
    "    print('Not stat error')"
   ]
  },
  {
   "cell_type": "code",
   "execution_count": 59,
   "id": "54a4fd74",
   "metadata": {},
   "outputs": [
    {
     "name": "stdout",
     "output_type": "stream",
     "text": [
      "Not stat false\n"
     ]
    }
   ],
   "source": [
    "if d3 == d1:\n",
    "    print('Yes stat truse')\n",
    "else:\n",
    "    print('Not stat false')"
   ]
  },
  {
   "cell_type": "code",
   "execution_count": 61,
   "id": "2748e416",
   "metadata": {},
   "outputs": [
    {
     "name": "stdout",
     "output_type": "stream",
     "text": [
      "Enter your score89\n",
      "Your score A\n"
     ]
    }
   ],
   "source": [
    "d5 = 100\n",
    "d6 = 90\n",
    "d7 = 50\n",
    "d8 = int(input('Enter your score'))\n",
    "if d8 <= d5:\n",
    "    print('Your score A')\n",
    "elif d8 <= d6:\n",
    "    print('Your score B')\n",
    "elif d8 <= d7:\n",
    "    print('Your score C')\n",
    "else:\n",
    "    print('Dumb')"
   ]
  },
  {
   "cell_type": "code",
   "execution_count": 63,
   "id": "fea59564",
   "metadata": {},
   "outputs": [
    {
     "name": "stdout",
     "output_type": "stream",
     "text": [
      "Enter your pocket money23\n",
      "Work harder to make money\n"
     ]
    }
   ],
   "source": [
    "money = int(input('Enter your pocket money'))\n",
    "price = 55\n",
    "if money >= price:\n",
    "    print('Buy it')\n",
    "else:\n",
    "    print('Work harder to make money')"
   ]
  },
  {
   "cell_type": "code",
   "execution_count": 64,
   "id": "243531e5",
   "metadata": {},
   "outputs": [
    {
     "name": "stdout",
     "output_type": "stream",
     "text": [
      "6\n"
     ]
    }
   ],
   "source": [
    "s = 5\n",
    "s = 6\n",
    "print(s)"
   ]
  },
  {
   "cell_type": "code",
   "execution_count": 69,
   "id": "9aa1a939",
   "metadata": {},
   "outputs": [
    {
     "name": "stdout",
     "output_type": "stream",
     "text": [
      "False\n"
     ]
    }
   ],
   "source": [
    "print(bool(''))"
   ]
  },
  {
   "cell_type": "code",
   "execution_count": null,
   "id": "0b860659",
   "metadata": {},
   "outputs": [],
   "source": []
  }
 ],
 "metadata": {
  "kernelspec": {
   "display_name": "Python 3 (ipykernel)",
   "language": "python",
   "name": "python3"
  },
  "language_info": {
   "codemirror_mode": {
    "name": "ipython",
    "version": 3
   },
   "file_extension": ".py",
   "mimetype": "text/x-python",
   "name": "python",
   "nbconvert_exporter": "python",
   "pygments_lexer": "ipython3",
   "version": "3.11.4"
  }
 },
 "nbformat": 4,
 "nbformat_minor": 5
}
