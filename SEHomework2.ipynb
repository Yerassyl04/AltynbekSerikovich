{
 "cells": [
  {
   "cell_type": "markdown",
   "id": "067dc574",
   "metadata": {},
   "source": [
    "# 1 Provides own 10 examples according topics that we covered.\n"
   ]
  },
  {
   "cell_type": "code",
   "execution_count": 28,
   "id": "70e254dd",
   "metadata": {},
   "outputs": [
    {
     "name": "stdout",
     "output_type": "stream",
     "text": [
      "1 example\n",
      "My name is Yerassyl\n"
     ]
    }
   ],
   "source": [
    "print('1 example')\n",
    "x = 'My name is Yerassyl'\n",
    "print(x)"
   ]
  },
  {
   "cell_type": "code",
   "execution_count": 32,
   "id": "68703cc5",
   "metadata": {},
   "outputs": [
    {
     "name": "stdout",
     "output_type": "stream",
     "text": [
      "2 example\n",
      "Yerassyl\n"
     ]
    }
   ],
   "source": [
    "print('2 example')\n",
    "x2 = x[11:]\n",
    "print(x2)"
   ]
  },
  {
   "cell_type": "code",
   "execution_count": 36,
   "id": "88cd0efe",
   "metadata": {},
   "outputs": [
    {
     "name": "stdout",
     "output_type": "stream",
     "text": [
      "3 example\n",
      "Y\n",
      "e\n",
      "r\n",
      "a\n",
      "4\n"
     ]
    }
   ],
   "source": [
    "print('3 example')\n",
    "im = 'Yera'\n",
    "for i in 'Yera':\n",
    "    print(i)\n",
    "print(len(im))"
   ]
  },
  {
   "cell_type": "code",
   "execution_count": 38,
   "id": "37fa81b7",
   "metadata": {},
   "outputs": [
    {
     "name": "stdout",
     "output_type": "stream",
     "text": [
      "4 example\n",
      "Yes, 'love' contain.\n"
     ]
    }
   ],
   "source": [
    "print('4 example')\n",
    "txt = \"I love my Country\"\n",
    "if 'love' in txt:\n",
    "  print('Yes, \\'love\\' contain.')"
   ]
  },
  {
   "cell_type": "code",
   "execution_count": 47,
   "id": "bfd6be09",
   "metadata": {},
   "outputs": [
    {
     "name": "stdout",
     "output_type": "stream",
     "text": [
      "5 example\n",
      "Iskak\n"
     ]
    }
   ],
   "source": [
    "print('5 example')\n",
    "ir = 'Iskakov'\n",
    "print(ir[-7:-2])"
   ]
  },
  {
   "cell_type": "code",
   "execution_count": 49,
   "id": "0930429a",
   "metadata": {},
   "outputs": [
    {
     "name": "stdout",
     "output_type": "stream",
     "text": [
      "6 example\n",
      "GOOD MORNING\n",
      "good morning\n"
     ]
    }
   ],
   "source": [
    "print('6 example')\n",
    "sir = 'Good MoRnInG'\n",
    "print(sir.upper())\n",
    "print(sir.lower())"
   ]
  },
  {
   "cell_type": "code",
   "execution_count": 50,
   "id": "4f88900b",
   "metadata": {},
   "outputs": [
    {
     "name": "stdout",
     "output_type": "stream",
     "text": [
      "7 example\n",
      "Whats your name\n"
     ]
    }
   ],
   "source": [
    "print('7 example')\n",
    "ye = 'Whats ur name'\n",
    "print(ye.replace('ur', 'your'))"
   ]
  },
  {
   "cell_type": "code",
   "execution_count": 56,
   "id": "b3cba9f2",
   "metadata": {},
   "outputs": [
    {
     "name": "stdout",
     "output_type": "stream",
     "text": [
      "8 example\n",
      "['This', 'text', 'is', 'would', 'be', 'split']\n"
     ]
    }
   ],
   "source": [
    "print('8 example')\n",
    "w = 'This text is would be split'\n",
    "print(w.split(' ')) #WhiteSpace"
   ]
  },
  {
   "cell_type": "code",
   "execution_count": 59,
   "id": "5bb75608",
   "metadata": {},
   "outputs": [
    {
     "name": "stdout",
     "output_type": "stream",
     "text": [
      "9 example\n",
      "Enter ur name: YerasSyl\n",
      "Welcome: \n"
     ]
    }
   ],
   "source": [
    "print('9 example')\n",
    "el = 'yerassyl'\n",
    "en = input('Enter ur name: ')\n",
    "if en.lower() == el:\n",
    "    print('Welcome: ')\n",
    "else: \n",
    "    print('No')\n"
   ]
  },
  {
   "cell_type": "code",
   "execution_count": 60,
   "id": "65684db6",
   "metadata": {},
   "outputs": [
    {
     "name": "stdout",
     "output_type": "stream",
     "text": [
      "10 example\n",
      "True\n"
     ]
    }
   ],
   "source": [
    "print('10 example')\n",
    "if 5 == 10 or 15 > 9:\n",
    "  print(\"True\")"
   ]
  },
  {
   "cell_type": "code",
   "execution_count": null,
   "id": "c979b833",
   "metadata": {},
   "outputs": [],
   "source": []
  },
  {
   "cell_type": "markdown",
   "id": "ccbd10e0",
   "metadata": {},
   "source": [
    "# 2 Create a python calculator with main math operators!"
   ]
  },
  {
   "cell_type": "code",
   "execution_count": 1,
   "id": "c49c6740",
   "metadata": {},
   "outputs": [
    {
     "name": "stdout",
     "output_type": "stream",
     "text": [
      "Enter 1st number: 89\n",
      "Enter 2nd number: 3\n",
      "Enter the mathematical operator: +\n",
      "Your answer is  92.0\n"
     ]
    }
   ],
   "source": [
    "#Calculator program\n",
    "\n",
    "a = float(input('Enter 1st number: '))\n",
    "b = float(input('Enter 2nd number: '))\n",
    "op = input('Enter the mathematical operator: ')\n",
    "if op == '+':\n",
    "    print('Your answer is ', a+b)\n",
    "if op == '*':\n",
    "    print('Your answer is ', a*b)\n",
    "if op == '/':\n",
    "    print('Your answer is ', a/b)\n",
    "if op == '-':\n",
    "    print('Your answer is ', a-b)\n",
    "if op == '//':\n",
    "    print('Your answer is ', a//b)\n",
    "if op == '%':\n",
    "    print('Your answer is ', a%b)"
   ]
  },
  {
   "cell_type": "markdown",
   "id": "77b35988",
   "metadata": {},
   "source": [
    "# 3 Create console calculator:\n"
   ]
  },
  {
   "cell_type": "code",
   "execution_count": 4,
   "id": "64617d7e",
   "metadata": {},
   "outputs": [
    {
     "name": "stdout",
     "output_type": "stream",
     "text": [
      "Its your console calculator. Select from it your choice: \n",
      " /*-+7894561230\n",
      "Select 1st number: 6\n",
      "9\n",
      "Select 2nd number: 4\n",
      "7\n",
      "Select your operator 1\n",
      "Your choice *\n",
      "Your answer is  63\n"
     ]
    }
   ],
   "source": [
    "print('Its your console calculator. Select from it your choice: \\n /*-+7894561230')\n",
    "ca = '/*-+7894561230'\n",
    "symb = '/*-+'\n",
    "n1 = int(input('Select 1st number: '))\n",
    "print((ca[n1]))\n",
    "   \n",
    "n2 = int(input('Select 2nd number: '))\n",
    "print((ca[n2]))\n",
    "    \n",
    "oper = eval(input('Select your operator '))\n",
    "print('Your choice', ca[oper])\n",
    "\n",
    "if ca[oper] == '+':\n",
    "    print('Your answer is ', int(ca[n1])+int(ca[n2]))\n",
    "if ca[oper] == '*':\n",
    "    print('Your answer is ', int(ca[n1])*int(ca[n2]))\n",
    "if ca[oper] == '/':\n",
    "    print('Your answer is ', int(ca[n1])/int(ca[n2]))\n",
    "if ca[oper] == '-':\n",
    "    print('Your answer is ', int(ca[n1])-int(ca[n2]))"
   ]
  },
  {
   "cell_type": "markdown",
   "id": "4b269bdc",
   "metadata": {},
   "source": [
    "# 4 Check whether a number entered is even or add"
   ]
  },
  {
   "cell_type": "code",
   "execution_count": 8,
   "id": "a383d15d",
   "metadata": {},
   "outputs": [
    {
     "name": "stdout",
     "output_type": "stream",
     "text": [
      "Enter the number: 6\n",
      "Your number even:\n"
     ]
    }
   ],
   "source": [
    "num = eval(input('Enter the number: '))\n",
    "if num % 2 == 0:\n",
    "    print('Your number even')\n",
    "else:\n",
    "    print('Your number odd')\n",
    "\n",
    " "
   ]
  },
  {
   "cell_type": "markdown",
   "id": "3262cad3",
   "metadata": {},
   "source": [
    "# 5 Check whether a last number entered divisble by 3 or not"
   ]
  },
  {
   "cell_type": "code",
   "execution_count": 16,
   "id": "02708054",
   "metadata": {},
   "outputs": [
    {
     "name": "stdout",
     "output_type": "stream",
     "text": [
      "Enter the number: 619\n",
      "Your number divisble to 3\n"
     ]
    }
   ],
   "source": [
    "num2 =str(input('Enter the number: '))\n",
    "number = num2[-1]\n",
    "if int(number) % 3 == 0:\n",
    "    print('Your last number divisble to 3')\n",
    "else:\n",
    "    print('Your last number not divisble to 3')    "
   ]
  },
  {
   "cell_type": "markdown",
   "id": "dec56c9f",
   "metadata": {},
   "source": [
    "# 6 Electricity bill task"
   ]
  },
  {
   "cell_type": "code",
   "execution_count": 61,
   "id": "89eeaf56",
   "metadata": {},
   "outputs": [
    {
     "name": "stdout",
     "output_type": "stream",
     "text": [
      "Enter number of unit: 350\n",
      "Total bill amount is: 2000\n"
     ]
    }
   ],
   "source": [
    "bill = eval(input('Enter number of unit: '))\n",
    "if bill <= 100:\n",
    "    print('Total bill amount is:', bill)\n",
    "elif bill <= 200:\n",
    "    bill2 = bill-100\n",
    "    print('Total bill amount is:', bill2*5)\n",
    "elif bill >= 200:\n",
    "    bill3 = bill-200\n",
    "    print('Total bill amount is:', 100*5+bill3*10)\n",
    "    "
   ]
  },
  {
   "cell_type": "code",
   "execution_count": null,
   "id": "5a1fa603",
   "metadata": {},
   "outputs": [],
   "source": []
  },
  {
   "cell_type": "code",
   "execution_count": null,
   "id": "eb9209cf",
   "metadata": {},
   "outputs": [],
   "source": []
  },
  {
   "cell_type": "code",
   "execution_count": null,
   "id": "6c68a2be",
   "metadata": {},
   "outputs": [],
   "source": []
  }
 ],
 "metadata": {
  "kernelspec": {
   "display_name": "Python 3 (ipykernel)",
   "language": "python",
   "name": "python3"
  },
  "language_info": {
   "codemirror_mode": {
    "name": "ipython",
    "version": 3
   },
   "file_extension": ".py",
   "mimetype": "text/x-python",
   "name": "python",
   "nbconvert_exporter": "python",
   "pygments_lexer": "ipython3",
   "version": "3.11.4"
  }
 },
 "nbformat": 4,
 "nbformat_minor": 5
}
