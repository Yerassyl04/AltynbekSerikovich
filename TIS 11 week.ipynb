{
 "cells": [
  {
   "cell_type": "code",
   "execution_count": 1,
   "id": "7c39dd56",
   "metadata": {},
   "outputs": [],
   "source": [
    "%load_ext sql"
   ]
  },
  {
   "cell_type": "code",
   "execution_count": 2,
   "id": "36eeed18",
   "metadata": {},
   "outputs": [],
   "source": [
    "%sql sqlite://"
   ]
  },
  {
   "cell_type": "code",
   "execution_count": 3,
   "id": "4eab0509",
   "metadata": {},
   "outputs": [],
   "source": [
    "%sql sqlite:///HW11.db"
   ]
  },
  {
   "cell_type": "markdown",
   "id": "374a3016",
   "metadata": {},
   "source": [
    "# Practice task 1: Please, produce the First, Second and Third Normal Form of this document by normalization."
   ]
  },
  {
   "cell_type": "code",
   "execution_count": 14,
   "id": "0125513d",
   "metadata": {},
   "outputs": [
    {
     "name": "stdout",
     "output_type": "stream",
     "text": [
      "   sqlite://\n",
      " * sqlite:///HW11.db\n",
      "Done.\n"
     ]
    },
    {
     "data": {
      "text/plain": [
       "[]"
      ]
     },
     "execution_count": 14,
     "metadata": {},
     "output_type": "execute_result"
    }
   ],
   "source": [
    "%%sql\n",
    "Create Table Orderform\n",
    "(OrderNo int,\n",
    "Custnum int,\n",
    "Custname char(15),\n",
    "Custadress char(30),\n",
    "Citycountry char(30),\n",
    "ProductNo char(4),\n",
    "Description char(20),\n",
    "Quantity int,\n",
    "Price int,\n",
    "Date date\n",
    ");"
   ]
  },
  {
   "cell_type": "code",
   "execution_count": 19,
   "id": "3faa2c20",
   "metadata": {},
   "outputs": [
    {
     "name": "stdout",
     "output_type": "stream",
     "text": [
      "   sqlite://\n",
      " * sqlite:///HW11.db\n",
      "3 rows affected.\n"
     ]
    },
    {
     "data": {
      "text/plain": [
       "[]"
      ]
     },
     "execution_count": 19,
     "metadata": {},
     "output_type": "execute_result"
    }
   ],
   "source": [
    "%%sql\n",
    "Insert into Orderform (OrderNo, Custnum, Custname, Custadress, Citycountry, ProductNo, Description, Quantity, Price, Date)\n",
    "Values (1234, 1000, 'Billy','457 park drive, apt.1', 'Boston, USA', 'A123', 'Pencil', 100, 1.3, '30-08-2019'),\n",
    "(1234, 1000, 'Billy','457 park drive, apt.1', 'Boston, USA', 'B234', 'Eraser', 250, 30, '30-08-2019'),\n",
    "(1234, 1000, 'Billy','457 park drive, apt.1', 'Boston, USA', 'A123', 'Sharpener', 9, 120, '30-08-2019' );"
   ]
  },
  {
   "cell_type": "code",
   "execution_count": 20,
   "id": "4b8cdb30",
   "metadata": {},
   "outputs": [
    {
     "name": "stdout",
     "output_type": "stream",
     "text": [
      "   sqlite://\n",
      " * sqlite:///HW11.db\n",
      "Done.\n"
     ]
    },
    {
     "data": {
      "text/html": [
       "<table>\n",
       "    <thead>\n",
       "        <tr>\n",
       "            <th>OrderNo</th>\n",
       "            <th>Custnum</th>\n",
       "            <th>Custname</th>\n",
       "            <th>Custadress</th>\n",
       "            <th>Citycountry</th>\n",
       "            <th>ProductNo</th>\n",
       "            <th>Description</th>\n",
       "            <th>Quantity</th>\n",
       "            <th>Price</th>\n",
       "            <th>Date</th>\n",
       "        </tr>\n",
       "    </thead>\n",
       "    <tbody>\n",
       "        <tr>\n",
       "            <td>1234</td>\n",
       "            <td>1000</td>\n",
       "            <td>Billy</td>\n",
       "            <td>457 park drive, apt.1</td>\n",
       "            <td>Boston, USA</td>\n",
       "            <td>A123</td>\n",
       "            <td>Pencil</td>\n",
       "            <td>100</td>\n",
       "            <td>1.3</td>\n",
       "            <td>30-08-2019</td>\n",
       "        </tr>\n",
       "        <tr>\n",
       "            <td>1234</td>\n",
       "            <td>1000</td>\n",
       "            <td>Billy</td>\n",
       "            <td>457 park drive, apt.1</td>\n",
       "            <td>Boston, USA</td>\n",
       "            <td>B234</td>\n",
       "            <td>Eraser</td>\n",
       "            <td>250</td>\n",
       "            <td>30</td>\n",
       "            <td>30-08-2019</td>\n",
       "        </tr>\n",
       "        <tr>\n",
       "            <td>1234</td>\n",
       "            <td>1000</td>\n",
       "            <td>Billy</td>\n",
       "            <td>457 park drive, apt.1</td>\n",
       "            <td>Boston, USA</td>\n",
       "            <td>A123</td>\n",
       "            <td>Sharpener</td>\n",
       "            <td>9</td>\n",
       "            <td>120</td>\n",
       "            <td>30-08-2019</td>\n",
       "        </tr>\n",
       "    </tbody>\n",
       "</table>"
      ],
      "text/plain": [
       "[(1234, 1000, 'Billy', '457 park drive, apt.1', 'Boston, USA', 'A123', 'Pencil', 100, 1.3, '30-08-2019'),\n",
       " (1234, 1000, 'Billy', '457 park drive, apt.1', 'Boston, USA', 'B234', 'Eraser', 250, 30, '30-08-2019'),\n",
       " (1234, 1000, 'Billy', '457 park drive, apt.1', 'Boston, USA', 'A123', 'Sharpener', 9, 120, '30-08-2019')]"
      ]
     },
     "execution_count": 20,
     "metadata": {},
     "output_type": "execute_result"
    }
   ],
   "source": [
    "%%sql\n",
    "select * from Orderform;"
   ]
  },
  {
   "cell_type": "code",
   "execution_count": 21,
   "id": "85c7319c",
   "metadata": {},
   "outputs": [],
   "source": [
    "# 1 NF we should devide city and country into two row"
   ]
  },
  {
   "cell_type": "code",
   "execution_count": 23,
   "id": "c39ec989",
   "metadata": {},
   "outputs": [],
   "source": [
    "# 2NF no partial dependencies (devide a table)"
   ]
  },
  {
   "cell_type": "code",
   "execution_count": 29,
   "id": "b39af5d2",
   "metadata": {},
   "outputs": [
    {
     "name": "stdout",
     "output_type": "stream",
     "text": [
      "   sqlite://\n",
      " * sqlite:///HW11.db\n",
      "Done.\n"
     ]
    },
    {
     "data": {
      "text/html": [
       "<table>\n",
       "    <thead>\n",
       "        <tr>\n",
       "            <th>ProductNo</th>\n",
       "            <th>Description</th>\n",
       "            <th>Price</th>\n",
       "        </tr>\n",
       "    </thead>\n",
       "    <tbody>\n",
       "        <tr>\n",
       "            <td>A123</td>\n",
       "            <td>Pencil</td>\n",
       "            <td>1.3</td>\n",
       "        </tr>\n",
       "        <tr>\n",
       "            <td>B234</td>\n",
       "            <td>Eraser</td>\n",
       "            <td>30</td>\n",
       "        </tr>\n",
       "        <tr>\n",
       "            <td>A123</td>\n",
       "            <td>Sharpener</td>\n",
       "            <td>120</td>\n",
       "        </tr>\n",
       "    </tbody>\n",
       "</table>"
      ],
      "text/plain": [
       "[('A123', 'Pencil', 1.3), ('B234', 'Eraser', 30), ('A123', 'Sharpener', 120)]"
      ]
     },
     "execution_count": 29,
     "metadata": {},
     "output_type": "execute_result"
    }
   ],
   "source": [
    "%%sql\n",
    "select productno, description, price from Orderform;"
   ]
  },
  {
   "cell_type": "code",
   "execution_count": 32,
   "id": "cf54d27f",
   "metadata": {
    "scrolled": false
   },
   "outputs": [
    {
     "name": "stdout",
     "output_type": "stream",
     "text": [
      "   sqlite://\n",
      " * sqlite:///HW11.db\n",
      "Done.\n"
     ]
    },
    {
     "data": {
      "text/html": [
       "<table>\n",
       "    <thead>\n",
       "        <tr>\n",
       "            <th>Custnum</th>\n",
       "            <th>Custname</th>\n",
       "            <th>Custadress</th>\n",
       "            <th>Citycountry</th>\n",
       "        </tr>\n",
       "    </thead>\n",
       "    <tbody>\n",
       "        <tr>\n",
       "            <td>1000</td>\n",
       "            <td>Billy</td>\n",
       "            <td>457 park drive, apt.1</td>\n",
       "            <td>Boston, USA</td>\n",
       "        </tr>\n",
       "        <tr>\n",
       "            <td>1000</td>\n",
       "            <td>Billy</td>\n",
       "            <td>457 park drive, apt.1</td>\n",
       "            <td>Boston, USA</td>\n",
       "        </tr>\n",
       "        <tr>\n",
       "            <td>1000</td>\n",
       "            <td>Billy</td>\n",
       "            <td>457 park drive, apt.1</td>\n",
       "            <td>Boston, USA</td>\n",
       "        </tr>\n",
       "    </tbody>\n",
       "</table>"
      ],
      "text/plain": [
       "[(1000, 'Billy', '457 park drive, apt.1', 'Boston, USA'),\n",
       " (1000, 'Billy', '457 park drive, apt.1', 'Boston, USA'),\n",
       " (1000, 'Billy', '457 park drive, apt.1', 'Boston, USA')]"
      ]
     },
     "execution_count": 32,
     "metadata": {},
     "output_type": "execute_result"
    }
   ],
   "source": [
    "%%sql\n",
    "select Custnum, Custname, Custadress, citycountry from Orderform;"
   ]
  },
  {
   "cell_type": "code",
   "execution_count": 33,
   "id": "d5a91322",
   "metadata": {},
   "outputs": [
    {
     "name": "stdout",
     "output_type": "stream",
     "text": [
      "   sqlite://\n",
      " * sqlite:///HW11.db\n",
      "Done.\n"
     ]
    },
    {
     "data": {
      "text/html": [
       "<table>\n",
       "    <thead>\n",
       "        <tr>\n",
       "            <th>Custnum</th>\n",
       "            <th>ProductNo</th>\n",
       "            <th>Quantity</th>\n",
       "        </tr>\n",
       "    </thead>\n",
       "    <tbody>\n",
       "        <tr>\n",
       "            <td>1000</td>\n",
       "            <td>A123</td>\n",
       "            <td>100</td>\n",
       "        </tr>\n",
       "        <tr>\n",
       "            <td>1000</td>\n",
       "            <td>B234</td>\n",
       "            <td>250</td>\n",
       "        </tr>\n",
       "        <tr>\n",
       "            <td>1000</td>\n",
       "            <td>A123</td>\n",
       "            <td>9</td>\n",
       "        </tr>\n",
       "    </tbody>\n",
       "</table>"
      ],
      "text/plain": [
       "[(1000, 'A123', 100), (1000, 'B234', 250), (1000, 'A123', 9)]"
      ]
     },
     "execution_count": 33,
     "metadata": {},
     "output_type": "execute_result"
    }
   ],
   "source": [
    "%%sql\n",
    "select Custnum, productno, quantity from Orderform;"
   ]
  },
  {
   "cell_type": "markdown",
   "id": "15ae3c2b",
   "metadata": {},
   "source": [
    "# Practice task 2: Please, produce the First, Second and Third Normal Form for the given table."
   ]
  },
  {
   "cell_type": "code",
   "execution_count": 36,
   "id": "1d0d78a8",
   "metadata": {},
   "outputs": [
    {
     "name": "stdout",
     "output_type": "stream",
     "text": [
      "   sqlite://\n",
      " * sqlite:///HW11.db\n",
      "(sqlite3.OperationalError) table second_task already exists\n",
      "[SQL: CREATE TABLE second_task (\n",
      "pet_id int,\n",
      "pet_name varchar,\n",
      "pet_type varchar,\n",
      "pet_age int,\n",
      "owner_name varchar,\n",
      "visit_date date,\n",
      "pet_procedure text,\n",
      "PRIMARY KEY(pet_id));]\n",
      "(Background on this error at: https://sqlalche.me/e/20/e3q8)\n"
     ]
    }
   ],
   "source": [
    "%%sql\n",
    "CREATE TABLE second_task (\n",
    "pet_id int,\n",
    "pet_name varchar,\n",
    "pet_type varchar,\n",
    "pet_age int,\n",
    "owner_name varchar,\n",
    "visit_date date,\n",
    "pet_procedure text,\n",
    "PRIMARY KEY(pet_id));\n"
   ]
  },
  {
   "cell_type": "code",
   "execution_count": 38,
   "id": "d5479aaf",
   "metadata": {},
   "outputs": [
    {
     "name": "stdout",
     "output_type": "stream",
     "text": [
      "   sqlite://\n",
      " * sqlite:///HW11.db\n",
      "3 rows affected.\n"
     ]
    },
    {
     "data": {
      "text/plain": [
       "[]"
      ]
     },
     "execution_count": 38,
     "metadata": {},
     "output_type": "execute_result"
    }
   ],
   "source": [
    "%%sql\n",
    "INSERT INTO second_task (pet_id, pet_name, pet_type, pet_age, owner_name, visit_date, pet_procedure)\n",
    "VALUES (246, 'Rover', 'Dog', 12, 'Sam Cook', '13-01-2015, 27-03-2016, 02-04-2017', '01-Rabies vaccination, 10-Examine and treat wound,05-Heart worm test') ,\n",
    "(298, 'Spot', 'Dog', 2, 'Terry Kim', '21-01-2012, 10-03-2018', '08-Tetanus vaccination, 05-Heart worm test') ,\n",
    "(519, 'Tweedy', 'Bird', 2, 'Terry Kim', '30-04-2002', '20-Annual check up');"
   ]
  },
  {
   "cell_type": "code",
   "execution_count": 39,
   "id": "0a4b4d61",
   "metadata": {
    "scrolled": true
   },
   "outputs": [
    {
     "name": "stdout",
     "output_type": "stream",
     "text": [
      "   sqlite://\n",
      " * sqlite:///HW11.db\n",
      "Done.\n"
     ]
    },
    {
     "data": {
      "text/html": [
       "<table>\n",
       "    <thead>\n",
       "        <tr>\n",
       "            <th>pet_id</th>\n",
       "            <th>pet_name</th>\n",
       "            <th>pet_type</th>\n",
       "            <th>pet_age</th>\n",
       "            <th>owner_name</th>\n",
       "            <th>visit_date</th>\n",
       "            <th>pet_procedure</th>\n",
       "        </tr>\n",
       "    </thead>\n",
       "    <tbody>\n",
       "        <tr>\n",
       "            <td>246</td>\n",
       "            <td>Rover</td>\n",
       "            <td>Dog</td>\n",
       "            <td>12</td>\n",
       "            <td>Sam Cook</td>\n",
       "            <td>13-01-2015, 27-03-2016, 02-04-2017</td>\n",
       "            <td>01-Rabies vaccination, 10-Examine and treat wound,05-Heart worm test</td>\n",
       "        </tr>\n",
       "        <tr>\n",
       "            <td>298</td>\n",
       "            <td>Spot</td>\n",
       "            <td>Dog</td>\n",
       "            <td>2</td>\n",
       "            <td>Terry Kim</td>\n",
       "            <td>21-01-2012, 10-03-2018</td>\n",
       "            <td>08-Tetanus vaccination, 05-Heart worm test</td>\n",
       "        </tr>\n",
       "        <tr>\n",
       "            <td>519</td>\n",
       "            <td>Tweedy</td>\n",
       "            <td>Bird</td>\n",
       "            <td>2</td>\n",
       "            <td>Terry Kim</td>\n",
       "            <td>30-04-2002</td>\n",
       "            <td>20-Annual check up</td>\n",
       "        </tr>\n",
       "    </tbody>\n",
       "</table>"
      ],
      "text/plain": [
       "[(246, 'Rover', 'Dog', 12, 'Sam Cook', '13-01-2015, 27-03-2016, 02-04-2017', '01-Rabies vaccination, 10-Examine and treat wound,05-Heart worm test'),\n",
       " (298, 'Spot', 'Dog', 2, 'Terry Kim', '21-01-2012, 10-03-2018', '08-Tetanus vaccination, 05-Heart worm test'),\n",
       " (519, 'Tweedy', 'Bird', 2, 'Terry Kim', '30-04-2002', '20-Annual check up')]"
      ]
     },
     "execution_count": 39,
     "metadata": {},
     "output_type": "execute_result"
    }
   ],
   "source": [
    "%%sql \n",
    "select * from second_task"
   ]
  },
  {
   "cell_type": "markdown",
   "id": "142ebb27",
   "metadata": {},
   "source": [
    "1NF we devide owner_name into owner_name and owner_lastname, and pet_procedures into proc_id and proc_name"
   ]
  },
  {
   "cell_type": "markdown",
   "id": "8730d3a2",
   "metadata": {},
   "source": [
    "2 NF 1 table we have pet_id and visit_id as PK and colmns named pet_name, pet_type, pet_age, owner_name, owner_lastname, visit_day\n",
    "and table proc_id where get proc_name"
   ]
  },
  {
   "cell_type": "markdown",
   "id": "b222fd87",
   "metadata": {},
   "source": [
    "3 NF \n",
    "pet_id as PK and clmns pet_type pet_name, owner                                        \n",
    "and second table pet_id, visit_date as PK where as result we get visited date "
   ]
  },
  {
   "cell_type": "code",
   "execution_count": null,
   "id": "b8d6a36d",
   "metadata": {},
   "outputs": [],
   "source": []
  },
  {
   "cell_type": "markdown",
   "id": "21590e5e",
   "metadata": {},
   "source": [
    "# Practice task 3: Please, produce the First, Second and Third Normal Form for the given data."
   ]
  },
  {
   "cell_type": "code",
   "execution_count": 53,
   "id": "1369fea6",
   "metadata": {},
   "outputs": [
    {
     "name": "stdout",
     "output_type": "stream",
     "text": [
      "   sqlite://\n",
      " * sqlite:///HW11.db\n",
      "Done.\n"
     ]
    },
    {
     "data": {
      "text/plain": [
       "[]"
      ]
     },
     "execution_count": 53,
     "metadata": {},
     "output_type": "execute_result"
    }
   ],
   "source": [
    "%%sql\n",
    "Create Table Invoicet\n",
    "(invoiceno int,\n",
    "Vet char(30),\n",
    "Adress char(30),\n",
    "Citycountry char(30),\n",
    "Date date,\n",
    "ProductNo char(6),\n",
    "pet char(15),\n",
    "procedure char(20),\n",
    "amount float\n",
    ");"
   ]
  },
  {
   "cell_type": "code",
   "execution_count": 55,
   "id": "0a590b23",
   "metadata": {},
   "outputs": [
    {
     "name": "stdout",
     "output_type": "stream",
     "text": [
      "   sqlite://\n",
      " * sqlite:///HW11.db\n",
      "2 rows affected.\n"
     ]
    },
    {
     "data": {
      "text/plain": [
       "[]"
      ]
     },
     "execution_count": 55,
     "metadata": {},
     "output_type": "execute_result"
    }
   ],
   "source": [
    "%%sql\n",
    "insert into Invoicet(invoiceno,Vet,Adress,Citycountry, Date,ProductNo,pet, procedure, amount)\n",
    "values (185, 'MR.RICHARD GRAY','123 THIS STREET', 'My City Ontaro','13-01-2019', 'Z5Z6G6', 'ready', 'rabbies vaccination', 30.00),\n",
    "(185, 'MR.RICHARD GRAY','123 THIS STREET', 'My City Ontaro','13-01-2019', 'Z5Z6G6', 'brown', 'rabbies vaccination', 24.0);"
   ]
  },
  {
   "cell_type": "code",
   "execution_count": 56,
   "id": "e43ccea5",
   "metadata": {},
   "outputs": [
    {
     "name": "stdout",
     "output_type": "stream",
     "text": [
      "   sqlite://\n",
      " * sqlite:///HW11.db\n",
      "Done.\n"
     ]
    },
    {
     "data": {
      "text/html": [
       "<table>\n",
       "    <thead>\n",
       "        <tr>\n",
       "            <th>invoiceno</th>\n",
       "            <th>Vet</th>\n",
       "            <th>Adress</th>\n",
       "            <th>Citycountry</th>\n",
       "            <th>Date</th>\n",
       "            <th>ProductNo</th>\n",
       "            <th>pet</th>\n",
       "            <th>procedure</th>\n",
       "            <th>amount</th>\n",
       "        </tr>\n",
       "    </thead>\n",
       "    <tbody>\n",
       "        <tr>\n",
       "            <td>185</td>\n",
       "            <td>MR.RICHARD GRAY</td>\n",
       "            <td>123 THIS STREET</td>\n",
       "            <td>My City Ontaro</td>\n",
       "            <td>13-01-2019</td>\n",
       "            <td>Z5Z6G6</td>\n",
       "            <td>ready</td>\n",
       "            <td>rabbies vaccination</td>\n",
       "            <td>30.0</td>\n",
       "        </tr>\n",
       "        <tr>\n",
       "            <td>185</td>\n",
       "            <td>MR.RICHARD GRAY</td>\n",
       "            <td>123 THIS STREET</td>\n",
       "            <td>My City Ontaro</td>\n",
       "            <td>13-01-2019</td>\n",
       "            <td>Z5Z6G6</td>\n",
       "            <td>brown</td>\n",
       "            <td>rabbies vaccination</td>\n",
       "            <td>24.0</td>\n",
       "        </tr>\n",
       "    </tbody>\n",
       "</table>"
      ],
      "text/plain": [
       "[(185, 'MR.RICHARD GRAY', '123 THIS STREET', 'My City Ontaro', '13-01-2019', 'Z5Z6G6', 'ready', 'rabbies vaccination', 30.0),\n",
       " (185, 'MR.RICHARD GRAY', '123 THIS STREET', 'My City Ontaro', '13-01-2019', 'Z5Z6G6', 'brown', 'rabbies vaccination', 24.0)]"
      ]
     },
     "execution_count": 56,
     "metadata": {},
     "output_type": "execute_result"
    }
   ],
   "source": [
    "%%sql\n",
    "select * from invoicet"
   ]
  },
  {
   "cell_type": "markdown",
   "id": "9848d22c",
   "metadata": {},
   "source": [
    "1 NF we will add pet_id attribute and choose it as PK\n",
    "and devide citycountry column to city and country separetly"
   ]
  },
  {
   "cell_type": "markdown",
   "id": "f16501f6",
   "metadata": {},
   "source": [
    "2 NF Identify all functional dependencies"
   ]
  },
  {
   "cell_type": "markdown",
   "id": "8598a9fe",
   "metadata": {},
   "source": [
    "3 NF there are 4 tables lets list them                                                 \n",
    "*invoice table contain  invoiceno, date, vet(FK)                                   \n",
    "*cost of procedure table contain invoiceno, pet_id, procedure                             \n",
    "*pet table contain pet_id, pet                                             \n",
    "*customer info contain vetno, vet, adress, city, country                "
   ]
  },
  {
   "cell_type": "code",
   "execution_count": null,
   "id": "6fad1f5f",
   "metadata": {},
   "outputs": [],
   "source": []
  },
  {
   "cell_type": "markdown",
   "id": "85e2516c",
   "metadata": {},
   "source": [
    "# Practice task 4: Please, produce the First, Second and Third Normal Form for the given data."
   ]
  },
  {
   "cell_type": "code",
   "execution_count": 70,
   "id": "e5afc3f5",
   "metadata": {},
   "outputs": [
    {
     "name": "stdout",
     "output_type": "stream",
     "text": [
      "   sqlite://\n",
      " * sqlite:///HW11.db\n",
      "Done.\n"
     ]
    },
    {
     "data": {
      "text/plain": [
       "[]"
      ]
     },
     "execution_count": 70,
     "metadata": {},
     "output_type": "execute_result"
    }
   ],
   "source": [
    "%%sql\n",
    "Create Table Customerhist\n",
    "(custno char(6),\n",
    "cust_name char(30),\n",
    "cust_addr char(30),\n",
    "countrycity char(30),\n",
    "cust_phone char(30),\n",
    "artist char(30),\n",
    "title char(30),\n",
    "pur_date date,\n",
    "sales float\n",
    ");"
   ]
  },
  {
   "cell_type": "code",
   "execution_count": 71,
   "id": "aefb0b4a",
   "metadata": {},
   "outputs": [
    {
     "name": "stdout",
     "output_type": "stream",
     "text": [
      "   sqlite://\n",
      " * sqlite:///HW11.db\n",
      "3 rows affected.\n"
     ]
    },
    {
     "data": {
      "text/plain": [
       "[]"
      ]
     },
     "execution_count": 71,
     "metadata": {},
     "output_type": "execute_result"
    }
   ],
   "source": [
    "%%sql\n",
    "insert into Customerhist (custno, cust_name, cust_addr, countrycity, cust_phone, artist, title,pur_date, sales)\n",
    "values ('L3J4S4','Markl, Meghan', '123-4th Avenue', 'London, UK', '+1(206)286-6783', '03-Bob Channing', 'Laugh with Teeth', '09-17-2019', 7000.00),\n",
    "('L3J4S4','Markl, Meghan', '123-4th Avenue', 'London, UK', '+1(206)286-6783','03-Bob Channing', 'At the Movies', '02-14-2017', 5550.00),\n",
    "('L3J4S4','Markl, Meghan', '123-4th Avenue', 'London, UK', '+1(206)286-6783','15-Dennis Frings', 'South toward Emerald Sea', '07-15-2018', 2200.00);"
   ]
  },
  {
   "cell_type": "code",
   "execution_count": 72,
   "id": "6e84df2f",
   "metadata": {
    "scrolled": true
   },
   "outputs": [
    {
     "name": "stdout",
     "output_type": "stream",
     "text": [
      "   sqlite://\n",
      " * sqlite:///HW11.db\n",
      "Done.\n"
     ]
    },
    {
     "data": {
      "text/html": [
       "<table>\n",
       "    <thead>\n",
       "        <tr>\n",
       "            <th>custno</th>\n",
       "            <th>cust_name</th>\n",
       "            <th>cust_addr</th>\n",
       "            <th>countrycity</th>\n",
       "            <th>cust_phone</th>\n",
       "            <th>artist</th>\n",
       "            <th>title</th>\n",
       "            <th>pur_date</th>\n",
       "            <th>sales</th>\n",
       "        </tr>\n",
       "    </thead>\n",
       "    <tbody>\n",
       "        <tr>\n",
       "            <td>L3J4S4</td>\n",
       "            <td>Markl, Meghan</td>\n",
       "            <td>123-4th Avenue</td>\n",
       "            <td>London, UK</td>\n",
       "            <td>+1(206)286-6783</td>\n",
       "            <td>03-Bob Channing</td>\n",
       "            <td>Laugh with Teeth</td>\n",
       "            <td>09-17-2019</td>\n",
       "            <td>7000.0</td>\n",
       "        </tr>\n",
       "        <tr>\n",
       "            <td>L3J4S4</td>\n",
       "            <td>Markl, Meghan</td>\n",
       "            <td>123-4th Avenue</td>\n",
       "            <td>London, UK</td>\n",
       "            <td>+1(206)286-6783</td>\n",
       "            <td>03-Bob Channing</td>\n",
       "            <td>At the Movies</td>\n",
       "            <td>02-14-2017</td>\n",
       "            <td>5550.0</td>\n",
       "        </tr>\n",
       "        <tr>\n",
       "            <td>L3J4S4</td>\n",
       "            <td>Markl, Meghan</td>\n",
       "            <td>123-4th Avenue</td>\n",
       "            <td>London, UK</td>\n",
       "            <td>+1(206)286-6783</td>\n",
       "            <td>15-Dennis Frings</td>\n",
       "            <td>South toward Emerald Sea</td>\n",
       "            <td>07-15-2018</td>\n",
       "            <td>2200.0</td>\n",
       "        </tr>\n",
       "    </tbody>\n",
       "</table>"
      ],
      "text/plain": [
       "[('L3J4S4', 'Markl, Meghan', '123-4th Avenue', 'London, UK', '+1(206)286-6783', '03-Bob Channing', 'Laugh with Teeth', '09-17-2019', 7000.0),\n",
       " ('L3J4S4', 'Markl, Meghan', '123-4th Avenue', 'London, UK', '+1(206)286-6783', '03-Bob Channing', 'At the Movies', '02-14-2017', 5550.0),\n",
       " ('L3J4S4', 'Markl, Meghan', '123-4th Avenue', 'London, UK', '+1(206)286-6783', '15-Dennis Frings', 'South toward Emerald Sea', '07-15-2018', 2200.0)]"
      ]
     },
     "execution_count": 72,
     "metadata": {},
     "output_type": "execute_result"
    }
   ],
   "source": [
    "%%sql\n",
    "select * from Customerhist"
   ]
  },
  {
   "cell_type": "markdown",
   "id": "21a2ecca",
   "metadata": {},
   "source": [
    "1 NF devide cust_name into                                  \n",
    "countrycity into country and city                                                           \n"
   ]
  },
  {
   "cell_type": "markdown",
   "id": "23593853",
   "metadata": {},
   "source": [
    "2 NF check dependencies"
   ]
  },
  {
   "cell_type": "markdown",
   "id": "b7e7184f",
   "metadata": {},
   "source": [
    "3 NF \n",
    "customer(custno, first_name, last_name, street, city, state)                       \n",
    "artist info (id, artist_name)                        \n",
    "product (Id, artist_id, title, sales)                \n",
    "purchase (ID, cust_no, date)                           "
   ]
  },
  {
   "cell_type": "markdown",
   "id": "572168a1",
   "metadata": {},
   "source": [
    "# Practice task 5: Please, answer the given questions below. Produce the normalization forms if it’s applicable."
   ]
  },
  {
   "cell_type": "markdown",
   "id": "c8b4d8fd",
   "metadata": {},
   "source": [
    "a) we need to find the key for player.                                 \n",
    "As the key (Player-no) is single and simple attribute, there is no possibilities for partial-key dependencies. Hence, PLAYER is in 2NF."
   ]
  },
  {
   "cell_type": "markdown",
   "id": "60f797cf",
   "metadata": {},
   "source": [
    "b) we need to check for non-key dependencies or transitive dependencies                        \n",
    "PLAYER (Player-no, Player-name, Player-position, Team)                              \n",
    "TEAM (Team, Team-color, Team-captain, Coach-no)                        \n",
    "COACH (Coach-no, Coach-name)                                                         "
   ]
  },
  {
   "cell_type": "code",
   "execution_count": null,
   "id": "ef2298d0",
   "metadata": {},
   "outputs": [],
   "source": []
  },
  {
   "cell_type": "code",
   "execution_count": null,
   "id": "d16b62f1",
   "metadata": {},
   "outputs": [],
   "source": []
  },
  {
   "cell_type": "markdown",
   "id": "d4003d15",
   "metadata": {},
   "source": [
    "# Practice task 6: The following table is already in first normal form (1NF). There is only one entry per field. Please convert this table to the third normal form (3NF) using the techniques you learned in this chapter.\n"
   ]
  },
  {
   "cell_type": "code",
   "execution_count": 77,
   "id": "c2ba03fb",
   "metadata": {},
   "outputs": [
    {
     "name": "stdout",
     "output_type": "stream",
     "text": [
      "   sqlite://\n",
      " * sqlite:///HW11.db\n",
      "Done.\n"
     ]
    },
    {
     "data": {
      "text/plain": [
       "[]"
      ]
     },
     "execution_count": 77,
     "metadata": {},
     "output_type": "execute_result"
    }
   ],
   "source": [
    "%%sql\n",
    "Create Table Class\n",
    "(UnitID char(2),\n",
    " StudentID char(3),\n",
    " Date date,\n",
    " TutorID char(3),\n",
    " Topic char(3),\n",
    " Room int, \n",
    " Grade float,\n",
    " Book char(20),\n",
    " TutorEmail char(12)\n",
    ");"
   ]
  },
  {
   "cell_type": "code",
   "execution_count": 79,
   "id": "cb9c0278",
   "metadata": {},
   "outputs": [
    {
     "name": "stdout",
     "output_type": "stream",
     "text": [
      "   sqlite://\n",
      " * sqlite:///HW11.db\n",
      "1 rows affected.\n"
     ]
    },
    {
     "data": {
      "text/plain": [
       "[]"
      ]
     },
     "execution_count": 79,
     "metadata": {},
     "output_type": "execute_result"
    }
   ],
   "source": [
    "%%sql\n",
    "insert into Class (UnitID, StudentID, Date, TutorID, Topic, Room, Grade, Book, TutorEmail)\n",
    "values ('U1', 'St1', '23-02-03', 'Tut1', 'GMT', 629, 4.7, 'Deumlich', 'tut1@bu.edu');\n"
   ]
  },
  {
   "cell_type": "code",
   "execution_count": 80,
   "id": "2b7b8fe2",
   "metadata": {
    "scrolled": true
   },
   "outputs": [
    {
     "name": "stdout",
     "output_type": "stream",
     "text": [
      "   sqlite://\n",
      " * sqlite:///HW11.db\n",
      "Done.\n"
     ]
    },
    {
     "data": {
      "text/html": [
       "<table>\n",
       "    <thead>\n",
       "        <tr>\n",
       "            <th>UnitID</th>\n",
       "            <th>StudentID</th>\n",
       "            <th>Date</th>\n",
       "            <th>TutorID</th>\n",
       "            <th>Topic</th>\n",
       "            <th>Room</th>\n",
       "            <th>Grade</th>\n",
       "            <th>Book</th>\n",
       "            <th>TutorEmail</th>\n",
       "        </tr>\n",
       "    </thead>\n",
       "    <tbody>\n",
       "        <tr>\n",
       "            <td>U1</td>\n",
       "            <td>St1</td>\n",
       "            <td>23-02-03</td>\n",
       "            <td>Tut1</td>\n",
       "            <td>GMT</td>\n",
       "            <td>629</td>\n",
       "            <td>4.7</td>\n",
       "            <td>Deumlich</td>\n",
       "            <td>tut1@bu.edu</td>\n",
       "        </tr>\n",
       "    </tbody>\n",
       "</table>"
      ],
      "text/plain": [
       "[('U1', 'St1', '23-02-03', 'Tut1', 'GMT', 629, 4.7, 'Deumlich', 'tut1@bu.edu')]"
      ]
     },
     "execution_count": 80,
     "metadata": {},
     "output_type": "execute_result"
    }
   ],
   "source": [
    "%%sql\n",
    "select * from Class"
   ]
  },
  {
   "cell_type": "code",
   "execution_count": 81,
   "id": "dc6e1b7f",
   "metadata": {},
   "outputs": [],
   "source": [
    "# 3NF saved on word file in my desktop "
   ]
  },
  {
   "cell_type": "markdown",
   "id": "53f1782a",
   "metadata": {},
   "source": [
    "3 NF \n",
    "\n",
    "units table contain UnitID, Topic,                                      \n",
    "books contain Book, UnitID,               \n",
    "lesson contain Room, Date, TutorID,                             \n",
    "titor info contain TutorID, TutorEmail,                       \n",
    "student table contain StudentID, Grade, TutorID          "
   ]
  },
  {
   "cell_type": "code",
   "execution_count": null,
   "id": "e3eb726d",
   "metadata": {},
   "outputs": [],
   "source": []
  },
  {
   "cell_type": "code",
   "execution_count": null,
   "id": "23a7712d",
   "metadata": {},
   "outputs": [],
   "source": []
  },
  {
   "cell_type": "code",
   "execution_count": null,
   "id": "8981ac06",
   "metadata": {},
   "outputs": [],
   "source": []
  },
  {
   "cell_type": "code",
   "execution_count": null,
   "id": "1f17d94a",
   "metadata": {},
   "outputs": [],
   "source": []
  },
  {
   "cell_type": "code",
   "execution_count": null,
   "id": "ba292ab3",
   "metadata": {},
   "outputs": [],
   "source": []
  },
  {
   "cell_type": "code",
   "execution_count": null,
   "id": "23692c35",
   "metadata": {},
   "outputs": [],
   "source": []
  },
  {
   "cell_type": "code",
   "execution_count": null,
   "id": "2a7b5597",
   "metadata": {},
   "outputs": [],
   "source": []
  },
  {
   "cell_type": "code",
   "execution_count": null,
   "id": "35c9ef98",
   "metadata": {},
   "outputs": [],
   "source": []
  },
  {
   "cell_type": "code",
   "execution_count": null,
   "id": "ebadb543",
   "metadata": {},
   "outputs": [],
   "source": []
  },
  {
   "cell_type": "code",
   "execution_count": null,
   "id": "2ade1666",
   "metadata": {},
   "outputs": [],
   "source": []
  },
  {
   "cell_type": "code",
   "execution_count": null,
   "id": "da1537f6",
   "metadata": {},
   "outputs": [],
   "source": []
  },
  {
   "cell_type": "code",
   "execution_count": null,
   "id": "e4d63771",
   "metadata": {},
   "outputs": [],
   "source": []
  },
  {
   "cell_type": "code",
   "execution_count": null,
   "id": "1cd71d3b",
   "metadata": {},
   "outputs": [],
   "source": []
  },
  {
   "cell_type": "code",
   "execution_count": null,
   "id": "32812a83",
   "metadata": {},
   "outputs": [],
   "source": []
  },
  {
   "cell_type": "code",
   "execution_count": null,
   "id": "f6778000",
   "metadata": {},
   "outputs": [],
   "source": []
  },
  {
   "cell_type": "code",
   "execution_count": null,
   "id": "39a1444a",
   "metadata": {},
   "outputs": [],
   "source": []
  },
  {
   "cell_type": "code",
   "execution_count": null,
   "id": "e5911ec5",
   "metadata": {},
   "outputs": [],
   "source": []
  },
  {
   "cell_type": "code",
   "execution_count": null,
   "id": "4f03dae5",
   "metadata": {},
   "outputs": [],
   "source": []
  },
  {
   "cell_type": "code",
   "execution_count": null,
   "id": "f3ae37ae",
   "metadata": {},
   "outputs": [],
   "source": []
  },
  {
   "cell_type": "code",
   "execution_count": null,
   "id": "891af539",
   "metadata": {},
   "outputs": [],
   "source": []
  },
  {
   "cell_type": "code",
   "execution_count": null,
   "id": "6dd4032b",
   "metadata": {},
   "outputs": [],
   "source": []
  },
  {
   "cell_type": "markdown",
   "id": "c2005c89",
   "metadata": {},
   "source": [
    "# Practice task 7: An agency called Hilton Garden supplies part-time/temporary staff to hotels in USA. \n",
    "Table below lists the time spent by agency staff working at various hotels. The social security number (SSN) is unique for every member of staff.\n",
    "Use the data given in the table below to answer questions (a) and (b).\n",
    "a. This table is susceptible to update anomalies. Provide examples of insertion, deletion and update anomalies.\n",
    "b. Normalize this table to third normal form.\n"
   ]
  },
  {
   "cell_type": "code",
   "execution_count": null,
   "id": "c0eba9a8",
   "metadata": {},
   "outputs": [],
   "source": []
  },
  {
   "cell_type": "code",
   "execution_count": null,
   "id": "77ce0264",
   "metadata": {},
   "outputs": [],
   "source": []
  },
  {
   "cell_type": "code",
   "execution_count": null,
   "id": "0f02edd7",
   "metadata": {},
   "outputs": [],
   "source": []
  },
  {
   "cell_type": "markdown",
   "id": "464a94f8",
   "metadata": {},
   "source": [
    "# Practice task 8: Please, produce the Second and Third Normal Form for the given table."
   ]
  },
  {
   "cell_type": "code",
   "execution_count": null,
   "id": "481f4251",
   "metadata": {},
   "outputs": [],
   "source": []
  },
  {
   "cell_type": "code",
   "execution_count": null,
   "id": "94d3bfe4",
   "metadata": {},
   "outputs": [],
   "source": []
  },
  {
   "cell_type": "code",
   "execution_count": null,
   "id": "db59c6cc",
   "metadata": {},
   "outputs": [],
   "source": []
  },
  {
   "cell_type": "code",
   "execution_count": null,
   "id": "8adb4f19",
   "metadata": {},
   "outputs": [],
   "source": []
  },
  {
   "cell_type": "code",
   "execution_count": null,
   "id": "10b36f66",
   "metadata": {},
   "outputs": [],
   "source": []
  },
  {
   "cell_type": "code",
   "execution_count": null,
   "id": "0be188ed",
   "metadata": {},
   "outputs": [],
   "source": []
  },
  {
   "cell_type": "code",
   "execution_count": null,
   "id": "9c220ef5",
   "metadata": {},
   "outputs": [],
   "source": []
  },
  {
   "cell_type": "code",
   "execution_count": null,
   "id": "e8cfa7f6",
   "metadata": {},
   "outputs": [],
   "source": []
  },
  {
   "cell_type": "code",
   "execution_count": null,
   "id": "8855ba49",
   "metadata": {},
   "outputs": [],
   "source": []
  },
  {
   "cell_type": "code",
   "execution_count": null,
   "id": "88ca9e03",
   "metadata": {},
   "outputs": [],
   "source": []
  },
  {
   "cell_type": "code",
   "execution_count": null,
   "id": "b8802575",
   "metadata": {},
   "outputs": [],
   "source": []
  },
  {
   "cell_type": "code",
   "execution_count": null,
   "id": "0cf8029e",
   "metadata": {},
   "outputs": [],
   "source": []
  },
  {
   "cell_type": "code",
   "execution_count": null,
   "id": "b0944982",
   "metadata": {},
   "outputs": [],
   "source": []
  },
  {
   "cell_type": "code",
   "execution_count": null,
   "id": "064b78c4",
   "metadata": {},
   "outputs": [],
   "source": []
  },
  {
   "cell_type": "code",
   "execution_count": null,
   "id": "09b67c4e",
   "metadata": {},
   "outputs": [],
   "source": []
  },
  {
   "cell_type": "code",
   "execution_count": null,
   "id": "280474bd",
   "metadata": {},
   "outputs": [],
   "source": []
  },
  {
   "cell_type": "code",
   "execution_count": null,
   "id": "5949e4c9",
   "metadata": {},
   "outputs": [],
   "source": []
  },
  {
   "cell_type": "code",
   "execution_count": null,
   "id": "f8b05b24",
   "metadata": {},
   "outputs": [],
   "source": []
  },
  {
   "cell_type": "code",
   "execution_count": null,
   "id": "03e841ee",
   "metadata": {},
   "outputs": [],
   "source": []
  },
  {
   "cell_type": "code",
   "execution_count": null,
   "id": "3e3df471",
   "metadata": {},
   "outputs": [],
   "source": []
  },
  {
   "cell_type": "code",
   "execution_count": null,
   "id": "f2aea135",
   "metadata": {},
   "outputs": [],
   "source": []
  },
  {
   "cell_type": "code",
   "execution_count": null,
   "id": "c92b3a35",
   "metadata": {},
   "outputs": [],
   "source": []
  },
  {
   "cell_type": "code",
   "execution_count": null,
   "id": "24251c1f",
   "metadata": {},
   "outputs": [],
   "source": []
  },
  {
   "cell_type": "code",
   "execution_count": null,
   "id": "206dd72a",
   "metadata": {},
   "outputs": [],
   "source": []
  }
 ],
 "metadata": {
  "kernelspec": {
   "display_name": "Python 3 (ipykernel)",
   "language": "python",
   "name": "python3"
  },
  "language_info": {
   "codemirror_mode": {
    "name": "ipython",
    "version": 3
   },
   "file_extension": ".py",
   "mimetype": "text/x-python",
   "name": "python",
   "nbconvert_exporter": "python",
   "pygments_lexer": "ipython3",
   "version": "3.11.4"
  }
 },
 "nbformat": 4,
 "nbformat_minor": 5
}
