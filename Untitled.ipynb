{
 "cells": [
  {
   "cell_type": "markdown",
   "id": "19df89a1-8cb2-44cc-a1fd-7eec0d35ed75",
   "metadata": {},
   "source": [
    "### Header"
   ]
  },
  {
   "cell_type": "markdown",
   "id": "d42ba88a-b626-48f5-b82e-5f4f4a8554df",
   "metadata": {},
   "source": [
    "#### Small"
   ]
  },
  {
   "cell_type": "code",
   "execution_count": 2,
   "id": "e3e0828b-e76e-46cc-832f-6395e78ee9dd",
   "metadata": {},
   "outputs": [
    {
     "data": {
      "text/plain": [
       "10"
      ]
     },
     "execution_count": 2,
     "metadata": {},
     "output_type": "execute_result"
    }
   ],
   "source": [
    "5+5"
   ]
  },
  {
   "cell_type": "code",
   "execution_count": 3,
   "id": "c93d1e3a-7369-40fd-8737-78eb500c0a5e",
   "metadata": {},
   "outputs": [
    {
     "name": "stdout",
     "output_type": "stream",
     "text": [
      "25\n"
     ]
    }
   ],
   "source": [
    "x = 10\n",
    "y = 15\n",
    "print(x+y)"
   ]
  },
  {
   "cell_type": "code",
   "execution_count": 1,
   "id": "3201d0fb-45e0-47c9-9ccd-80ff90ab4699",
   "metadata": {},
   "outputs": [
    {
     "data": {
      "text/plain": [
       "80"
      ]
     },
     "execution_count": 1,
     "metadata": {},
     "output_type": "execute_result"
    }
   ],
   "source": [
    "35+45"
   ]
  },
  {
   "cell_type": "code",
   "execution_count": 9,
   "id": "90283169",
   "metadata": {},
   "outputs": [],
   "source": [
    "def main(a=5, b=6):\n",
    "    c=a+b\n",
    "    print(c)\n"
   ]
  },
  {
   "cell_type": "markdown",
   "id": "ac15a84c",
   "metadata": {},
   "source": [
    "Sincerly Yerassyl"
   ]
  },
  {
   "cell_type": "code",
   "execution_count": null,
   "id": "651767b3",
   "metadata": {},
   "outputs": [],
   "source": []
  }
 ],
 "metadata": {
  "kernelspec": {
   "display_name": "Python 3 (ipykernel)",
   "language": "python",
   "name": "python3"
  },
  "language_info": {
   "codemirror_mode": {
    "name": "ipython",
    "version": 3
   },
   "file_extension": ".py",
   "mimetype": "text/x-python",
   "name": "python",
   "nbconvert_exporter": "python",
   "pygments_lexer": "ipython3",
   "version": "3.10.5"
  }
 },
 "nbformat": 4,
 "nbformat_minor": 5
}
