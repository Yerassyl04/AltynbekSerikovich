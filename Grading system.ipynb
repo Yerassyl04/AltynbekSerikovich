{
 "cells": [
  {
   "cell_type": "markdown",
   "id": "be73ca49",
   "metadata": {},
   "source": [
    " Import libraries"
   ]
  },
  {
   "cell_type": "code",
   "execution_count": 1,
   "id": "113156e3",
   "metadata": {},
   "outputs": [],
   "source": [
    "import matplotlib.pyplot as plt"
   ]
  },
  {
   "cell_type": "markdown",
   "id": "ad708b97",
   "metadata": {},
   "source": [
    "Define variables"
   ]
  },
  {
   "cell_type": "code",
   "execution_count": 2,
   "id": "4bb877fa",
   "metadata": {},
   "outputs": [],
   "source": [
    "Dict = {}  # Dictionary where store all info\n",
    "Pavg = 0 # practice avarage score\n",
    "Savg = 0\n",
    "Lavg= 0\n",
    "subject = {} # subject dict for nested dict to put in Dict\n"
   ]
  },
  {
   "cell_type": "markdown",
   "id": "082cd9bf",
   "metadata": {},
   "source": [
    "Choose"
   ]
  },
  {
   "cell_type": "code",
   "execution_count": 3,
   "id": "91ee48cb",
   "metadata": {},
   "outputs": [
    {
     "name": "stdout",
     "output_type": "stream",
     "text": [
      "Enter the subject name: Software Engineering\n",
      "Enter PRACTICE-SRO(1) or LEC-PRACTICE/(LAB)-SRO(2): 2\n"
     ]
    }
   ],
   "source": [
    "sub = input('Enter the subject name: ')   #subject name\n",
    "sh = int(input('Enter PRACTICE-SRO(1) or LEC-PRACTICE/(LAB)-SRO(2): '))\n"
   ]
  },
  {
   "cell_type": "markdown",
   "id": "a43cdfe1",
   "metadata": {},
   "source": [
    "Choose 1"
   ]
  },
  {
   "cell_type": "code",
   "execution_count": 4,
   "id": "bddf6df1",
   "metadata": {},
   "outputs": [],
   "source": [
    "if sh == 1:\n",
    "    PRA = input('Enter the PRACTICE scores with spaces: ').split()\n",
    "    PRA = [int(x) for x in PRA]\n",
    "    subject['Practice']= PRA\n",
    "    Psum = sum([int(score) for score in PRA])\n",
    "    Pavg = Psum / len(PRA)\n",
    "\n",
    "    SRO=input('Enter the SRO scores with spaces: ').split()\n",
    "    SRO = [int(x) for x in SRO]\n",
    "    subject['SRO'] = SRO\n",
    "    Ssum = sum([int(score) for score in SRO])\n",
    "    Savg = Ssum / len(SRO)\n",
    "\n",
    "    An = Pavg * 0.7 + Savg * 0.3\n",
    "#pie plotting start   \n",
    "    slices = [Psum*0.7, Ssum*0.3]\n",
    "    labels =['Practice','SRO',]\n",
    "    colours = ['blue', 'yellow']\n",
    "\n",
    "    plt.pie(slices, labels=labels, colors=colours, shadow=True)\n",
    "\n",
    "    plt.title('Scores around piechart for subject')\n",
    "    plt.show()"
   ]
  },
  {
   "cell_type": "markdown",
   "id": "15b5dce2",
   "metadata": {},
   "source": [
    "Choose 2"
   ]
  },
  {
   "cell_type": "code",
   "execution_count": 5,
   "id": "b7a62215",
   "metadata": {},
   "outputs": [
    {
     "name": "stdout",
     "output_type": "stream",
     "text": [
      "Enter the LECTURE scores with spaces: 90 100 90\n",
      "Enter the PRACTICE scores with spaces: 100 100 95 90\n",
      "Enter the SRO scores with spaces: 100 95 100 95 95\n"
     ]
    },
    {
     "data": {
      "image/png": "[encoded data removed]",
      "text/plain": [
       "<Figure size 640x480 with 1 Axes>"
      ]
     },
     "metadata": {},
     "output_type": "display_data"
    }
   ],
   "source": [
    "    \n",
    "if sh == 2:\n",
    "    LEC = input('Enter the LECTURE scores with spaces: ').split()\n",
    "    LEC = [int(x) for x in LEC]\n",
    "    subject['Lecture'] = LEC\n",
    "    \n",
    "    Lsum = sum([int(score) for score in LEC])\n",
    "    Lavg = Lsum / len(LEC)\n",
    "\n",
    "    PRA=input('Enter the PRACTICE scores with spaces: ').split()\n",
    "    PRA = [int(x) for x in PRA]\n",
    "    subject['Practice'] = PRA\n",
    "        \n",
    "    Psum = sum([int(score) for score in PRA])\n",
    "    Pavg = Psum / len(PRA)\n",
    "\n",
    "    SRO=input('Enter the SRO scores with spaces: ').split()\n",
    "    SRO = [int(x) for x in SRO]\n",
    "    subject['SRO'] = SRO\n",
    "    \n",
    "    Ssum = sum([int(score) for score in SRO])\n",
    "    Savg = Ssum / len(SRO)\n",
    "\n",
    "    An = Pavg * 0.5 + Savg * 0.3 + Lavg *0.2\n",
    "#pie plot     \n",
    "    slices = [Psum*0.5, Ssum*0.3, Lsum*0.2]\n",
    "    labels =['Practice','SRO','Lection']\n",
    "    colours = ['blue', 'yellow', 'green']\n",
    "\n",
    "    plt.pie(slices, labels=labels, colors=colours, shadow=True)\n",
    "\n",
    "    plt.title('Scores around piechart for subject')\n",
    "    plt.show()\n",
    "    "
   ]
  },
  {
   "cell_type": "markdown",
   "id": "97532d01",
   "metadata": {},
   "source": [
    "Print MED score"
   ]
  },
  {
   "cell_type": "code",
   "execution_count": 6,
   "id": "62066370",
   "metadata": {},
   "outputs": [
    {
     "name": "stdout",
     "output_type": "stream",
     "text": [
      "Your pre MID score 96\n"
     ]
    }
   ],
   "source": [
    "print('Your pre MID score', round(An)) "
   ]
  },
  {
   "cell_type": "markdown",
   "id": "f8bcdc57",
   "metadata": {},
   "source": [
    "Final score that u wish to gain"
   ]
  },
  {
   "cell_type": "code",
   "execution_count": 12,
   "id": "2979a737",
   "metadata": {},
   "outputs": [
    {
     "name": "stdout",
     "output_type": "stream",
     "text": [
      "Enter the final score that u wish to have in 1stMID: 100\n",
      "Your desired RKA is too high. Please try again. 106.00000000000001\n",
      "Enter the final score that u wish to have in 1stMID: 96\n",
      "Your should gain in 1stMidterm exam:  96\n"
     ]
    }
   ],
   "source": [
    "a = 0 # variable in loop to stop\n",
    "RKA = 0 \n",
    "RK = 0\n",
    "\n",
    "while a!=1:\n",
    "    RK = int(input('Enter the final score that u wish to have in 1stMID: '))\n",
    "    RKA = (RK-round(An)*0.6)/0.4\n",
    "    if RKA <= 100:\n",
    "        print('Your should gain in 1stMidterm exam: ', round(RKA))\n",
    "        a += 1\n",
    "    if RKA >= 100:\n",
    "        print('Your desired RKA is too high. Please try again.', RKA)"
   ]
  },
  {
   "cell_type": "markdown",
   "id": "cf3aecb0",
   "metadata": {},
   "source": [
    "Letters around RKA (that final score)"
   ]
  },
  {
   "cell_type": "code",
   "execution_count": 13,
   "id": "deb84196",
   "metadata": {},
   "outputs": [],
   "source": [
    "# Marking with letters to store in Dict\n",
    "if RKA >= 94: \n",
    "    subject['Letter-mark'] = 'A'\n",
    "elif RKA >= 90:\n",
    "    subject['Letter-mark'] = '-A'\n",
    "elif RKA >= 85:\n",
    "    subject['Letter-mark'] = 'B+' \n",
    "elif RKA >= 80:\n",
    "    subject['Letter-mark'] = 'B'\n",
    "elif RKA >= 75:\n",
    "    subject['Letter-mark'] = '-B' \n",
    "elif RKA >= 70:\n",
    "    subject['Letter-mark'] = 'C+' \n",
    "elif RKA >= 65:\n",
    "    subject['Letter-mark'] = 'C' \n",
    "elif RKA >= 60:\n",
    "    subject['Letter-mark'] = '-C'  \n",
    "else:\n",
    "    subject['Letter-mark'] = 'Total bad'"
   ]
  },
  {
   "cell_type": "markdown",
   "id": "b0087fab",
   "metadata": {},
   "source": [
    "Print result dict"
   ]
  },
  {
   "cell_type": "code",
   "execution_count": 14,
   "id": "74f97943",
   "metadata": {},
   "outputs": [
    {
     "name": "stdout",
     "output_type": "stream",
     "text": [
      "{'Software Engineering': {'Lecture': [90, 100, 90], 'Practice': [100, 100, 95, 90], 'SRO': [100, 95, 100, 95, 95], 'Letter-mark': 'A'}}\n"
     ]
    }
   ],
   "source": [
    "#result dictionary\n",
    "Dict[sub]=subject\n",
    "print(Dict)"
   ]
  },
  {
   "cell_type": "code",
   "execution_count": null,
   "id": "1074a3f5",
   "metadata": {},
   "outputs": [],
   "source": []
  },
  {
   "cell_type": "code",
   "execution_count": null,
   "id": "54375299",
   "metadata": {},
   "outputs": [],
   "source": []
  },
  {
   "cell_type": "code",
   "execution_count": null,
   "id": "c5cbcb2b",
   "metadata": {},
   "outputs": [],
   "source": []
  }
 ],
 "metadata": {
  "kernelspec": {
   "display_name": "Python 3 (ipykernel)",
   "language": "python",
   "name": "python3"
  },
  "language_info": {
   "codemirror_mode": {
    "name": "ipython",
    "version": 3
   },
   "file_extension": ".py",
   "mimetype": "text/x-python",
   "name": "python",
   "nbconvert_exporter": "python",
   "pygments_lexer": "ipython3",
   "version": "3.11.4"
  }
 },
 "nbformat": 4,
 "nbformat_minor": 5
}
