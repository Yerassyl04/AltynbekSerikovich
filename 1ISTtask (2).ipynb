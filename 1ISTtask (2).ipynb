{
 "cells": [
  {
   "cell_type": "markdown",
   "id": "e464bc7d",
   "metadata": {},
   "source": [
    "# 1-week practical home work "
   ]
  },
  {
   "cell_type": "markdown",
   "id": "01130e9a",
   "metadata": {},
   "source": [
    "## Made by Yerassyl"
   ]
  },
  {
   "cell_type": "code",
   "execution_count": null,
   "id": "1c4470c8",
   "metadata": {},
   "outputs": [],
   "source": []
  },
  {
   "cell_type": "markdown",
   "id": "85966841",
   "metadata": {},
   "source": [
    "### Comments"
   ]
  },
  {
   "cell_type": "code",
   "execution_count": 6,
   "id": "8410f303",
   "metadata": {},
   "outputs": [
    {
     "name": "stdout",
     "output_type": "stream",
     "text": [
      "Hello, Yera\n"
     ]
    }
   ],
   "source": [
    "# This is comment\n",
    "\"\"\"\n",
    "\n",
    "This section \n",
    "is too comment\n",
    "\n",
    "\"\"\"\n",
    "print(\"Hello, Yera\") \n"
   ]
  },
  {
   "cell_type": "markdown",
   "id": "ac883359",
   "metadata": {},
   "source": [
    "### Variables"
   ]
  },
  {
   "cell_type": "code",
   "execution_count": 7,
   "id": "26ddd182",
   "metadata": {},
   "outputs": [],
   "source": [
    "x=60\n",
    "y=45\n",
    "z=\"Yerassyl\"\n",
    "j=5j\n",
    "i=6.9\n",
    "k=\"Iskakov\""
   ]
  },
  {
   "cell_type": "code",
   "execution_count": 8,
   "id": "b2928f44",
   "metadata": {},
   "outputs": [
    {
     "name": "stdout",
     "output_type": "stream",
     "text": [
      "60\n",
      "105\n",
      "YerassylIskakov\n"
     ]
    }
   ],
   "source": [
    "print(x)\n",
    "print(x+y)\n",
    "print(z+k)"
   ]
  },
  {
   "cell_type": "code",
   "execution_count": 9,
   "id": "1e0c1558",
   "metadata": {},
   "outputs": [
    {
     "name": "stdout",
     "output_type": "stream",
     "text": [
      "x var <class 'int'>\n",
      "j var <class 'complex'>\n",
      "z var <class 'str'>\n",
      "i var <class 'float'>\n"
     ]
    }
   ],
   "source": [
    "#Check data type\n",
    "print('x var', type(x))\n",
    "print('j var', type(j))\n",
    "print('z var', type(z))\n",
    "print('i var', type(i))"
   ]
  },
  {
   "cell_type": "markdown",
   "id": "7f12c6ef",
   "metadata": {},
   "source": [
    "### Datatypes"
   ]
  },
  {
   "cell_type": "markdown",
   "id": "98623a2e",
   "metadata": {},
   "source": [
    "---**Text Type:**\tstr\n",
    "---**Numeric Types:**\tint, float, complex\n",
    "---**Sequence Types:**\tlist, tuple, range\n",
    "---**Mapping** Type:\tdict\n",
    "---**Set Types:**\tset, frozenset\n",
    "---**Boolean Type:**\tbool       --- True or False**\n",
    "---**Binary Types:**\tbytes, bytearray, memoryview**\n",
    "---**None Type:**\tNoneType"
   ]
  },
  {
   "cell_type": "markdown",
   "id": "d06817b4",
   "metadata": {},
   "source": [
    "### Numbers"
   ]
  },
  {
   "cell_type": "code",
   "execution_count": 14,
   "id": "5153b352",
   "metadata": {},
   "outputs": [],
   "source": [
    "import random"
   ]
  },
  {
   "cell_type": "code",
   "execution_count": 10,
   "id": "e5e76027",
   "metadata": {},
   "outputs": [
    {
     "name": "stdout",
     "output_type": "stream",
     "text": [
      "66\n",
      "52\n"
     ]
    }
   ],
   "source": [
    "print(x+int(i))\n",
    "print(y+len(k))\n"
   ]
  },
  {
   "cell_type": "code",
   "execution_count": 18,
   "id": "3c7f261d",
   "metadata": {},
   "outputs": [
    {
     "name": "stdout",
     "output_type": "stream",
     "text": [
      "3\n"
     ]
    }
   ],
   "source": [
    "print(random.randint(1, 10))"
   ]
  },
  {
   "cell_type": "markdown",
   "id": "cab877d6",
   "metadata": {},
   "source": [
    "### Casting"
   ]
  },
  {
   "cell_type": "code",
   "execution_count": 19,
   "id": "01e0024f",
   "metadata": {},
   "outputs": [
    {
     "name": "stdout",
     "output_type": "stream",
     "text": [
      "60.0 6\n"
     ]
    }
   ],
   "source": [
    "x2=float(x)\n",
    "i2=int(i)\n",
    "print(x2, i2)"
   ]
  },
  {
   "cell_type": "markdown",
   "id": "56778368",
   "metadata": {},
   "source": [
    "### Booleans"
   ]
  },
  {
   "cell_type": "code",
   "execution_count": 20,
   "id": "aa5bf3af",
   "metadata": {},
   "outputs": [
    {
     "name": "stdout",
     "output_type": "stream",
     "text": [
      "True\n",
      "False\n"
     ]
    }
   ],
   "source": [
    "print(10<=49)\n",
    "print(36.2==36.02)"
   ]
  },
  {
   "cell_type": "code",
   "execution_count": 21,
   "id": "f0dbd862",
   "metadata": {},
   "outputs": [
    {
     "name": "stdout",
     "output_type": "stream",
     "text": [
      "b is not greater than a\n"
     ]
    }
   ],
   "source": [
    "a = 200\n",
    "b = 33\n",
    "\n",
    "if b > a:\n",
    "  print(\"b is greater than a\")\n",
    "else:\n",
    "  print(\"b is not greater than a\")"
   ]
  },
  {
   "cell_type": "code",
   "execution_count": null,
   "id": "3e7a0818",
   "metadata": {},
   "outputs": [],
   "source": []
  },
  {
   "cell_type": "markdown",
   "id": "b62fc2fb",
   "metadata": {},
   "source": [
    "### Operators"
   ]
  },
  {
   "cell_type": "markdown",
   "id": "0da1dcf1",
   "metadata": {},
   "source": [
    "|Operator|\tName\t    |Example\t|\n",
    "| -------|--------------|-----------|\n",
    "|+\t     |Addition\t    |x + y\t    |\n",
    "|-\t     |Subtraction\t|x - y\t    |\n",
    "|*\t     |Multiplication|\tx * y\t|\n",
    "|/\t     |Division\t    |x / y    \t|\n",
    "|%\t     |Modulus\t    |x % y     \t|\n",
    "|**\t     |Exponentiation|\tx ** y\t|\n",
    "|//\t     |Floor division|\tx // y  |"
   ]
  },
  {
   "cell_type": "markdown",
   "id": "648585e8",
   "metadata": {},
   "source": [
    "/and \t--Returns True if both statements are true\t             \n",
    "/or\t--Returns True if one of the statements is true\t                \n",
    "/not--\tReverse the result, returns False if the result is true\t         \n",
    "/XOR --\tSets each bit to 1 if only one of two bits is 1      "
   ]
  },
  {
   "cell_type": "code",
   "execution_count": 26,
   "id": "ce187cad",
   "metadata": {},
   "outputs": [
    {
     "name": "stdout",
     "output_type": "stream",
     "text": [
      "False\n"
     ]
    }
   ],
   "source": [
    "if 10==5 and 10==10:\n",
    "    print('True')\n",
    "else:\n",
    "    print('False')"
   ]
  },
  {
   "cell_type": "code",
   "execution_count": 27,
   "id": "077b9f6e",
   "metadata": {},
   "outputs": [
    {
     "name": "stdout",
     "output_type": "stream",
     "text": [
      "True\n"
     ]
    }
   ],
   "source": [
    "if 10==5 or 10==10:\n",
    "    print('True')\n",
    "else:\n",
    "    print('False')"
   ]
  },
  {
   "cell_type": "code",
   "execution_count": null,
   "id": "c6a782ff",
   "metadata": {},
   "outputs": [],
   "source": []
  },
  {
   "cell_type": "code",
   "execution_count": null,
   "id": "4dd88b6f",
   "metadata": {},
   "outputs": [],
   "source": []
  },
  {
   "cell_type": "code",
   "execution_count": null,
   "id": "6a5bcc9c",
   "metadata": {},
   "outputs": [],
   "source": []
  }
 ],
 "metadata": {
  "kernelspec": {
   "display_name": "Python 3 (ipykernel)",
   "language": "python",
   "name": "python3"
  },
  "language_info": {
   "codemirror_mode": {
    "name": "ipython",
    "version": 3
   },
   "file_extension": ".py",
   "mimetype": "text/x-python",
   "name": "python",
   "nbconvert_exporter": "python",
   "pygments_lexer": "ipython3",
   "version": "3.11.4"
  }
 },
 "nbformat": 4,
 "nbformat_minor": 5
}
