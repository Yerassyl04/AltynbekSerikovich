{
 "cells": [
  {
   "cell_type": "markdown",
   "id": "0261354f",
   "metadata": {},
   "source": [
    "There are four collection data types in the Python programming language:    \n",
    "\n",
    "List is a collection which is ordered and changeable. Allows duplicate members.             \n",
    "Tuple is a collection which is ordered and unchangeable. Allows duplicate members.                  \n",
    "Set is a collection which is unordered, unchangeable*, and unindexed. No duplicate members.     \n",
    "Dictionary is a collection which is ordered** and changeable. No duplicate members.      "
   ]
  },
  {
   "cell_type": "markdown",
   "id": "e427c168",
   "metadata": {},
   "source": [
    "## Lists"
   ]
  },
  {
   "cell_type": "markdown",
   "id": "37bdc9ba",
   "metadata": {},
   "source": [
    "## Access List Items"
   ]
  },
  {
   "cell_type": "code",
   "execution_count": 1,
   "id": "a9fff7ea",
   "metadata": {},
   "outputs": [
    {
     "name": "stdout",
     "output_type": "stream",
     "text": [
      "Iskakov male ['Kairatovich', '2004-09-29', 'male']\n"
     ]
    }
   ],
   "source": [
    "L1 = ['Yera','Iskakov','Kairatovich','2004-09-29','male']\n",
    "print(L1[1], L1[-1], L1[2:])"
   ]
  },
  {
   "cell_type": "code",
   "execution_count": 2,
   "id": "fe86e388",
   "metadata": {},
   "outputs": [
    {
     "name": "stdout",
     "output_type": "stream",
     "text": [
      "Yes\n"
     ]
    }
   ],
   "source": [
    "if 'male' in L1:\n",
    "    print('Yes')\n",
    "else:\n",
    "    print('Not')"
   ]
  },
  {
   "cell_type": "markdown",
   "id": "b8053bfd",
   "metadata": {},
   "source": [
    "## Change list items"
   ]
  },
  {
   "cell_type": "code",
   "execution_count": 3,
   "id": "41e1562f",
   "metadata": {},
   "outputs": [
    {
     "name": "stdout",
     "output_type": "stream",
     "text": [
      "['Yera', 'Iskakov', 'Kairatovich', '29-09-2004', 'male']\n"
     ]
    }
   ],
   "source": [
    "L1[3]='29-09-2004'\n",
    "print(L1)"
   ]
  },
  {
   "cell_type": "code",
   "execution_count": 4,
   "id": "9bd9a0c7",
   "metadata": {},
   "outputs": [
    {
     "name": "stdout",
     "output_type": "stream",
     "text": [
      "['StudenID', 'Yera', 'Iskakov', 'Kairatovich', '29-09-2004', 'male']\n"
     ]
    }
   ],
   "source": [
    "L1.insert(0, 'StudenID')\n",
    "print(L1)"
   ]
  },
  {
   "cell_type": "markdown",
   "id": "a2746aaf",
   "metadata": {},
   "source": [
    "## add list items"
   ]
  },
  {
   "cell_type": "code",
   "execution_count": 5,
   "id": "013cce38",
   "metadata": {},
   "outputs": [
    {
     "name": "stdout",
     "output_type": "stream",
     "text": [
      "['StudenID', 'Yera', 'Iskakov', 'Kairatovich', '29-09-2004', 'male', 'ENU']\n"
     ]
    }
   ],
   "source": [
    "L1.append('ENU')\n",
    "print(L1)"
   ]
  },
  {
   "cell_type": "code",
   "execution_count": 12,
   "id": "fe81cc51",
   "metadata": {},
   "outputs": [
    {
     "name": "stdout",
     "output_type": "stream",
     "text": [
      "['StudenID', 'Yera', 'Iskakov', 'Kairatovich', '29-09-2004', 'male', 'ENU', 'Oraz', 'Disko', '09-09-04', 'Oraz', 'Disko', '09-09-04']\n"
     ]
    }
   ],
   "source": [
    "L2 = ['Oraz', 'Disko', '09-09-04']\n",
    "L1.extend(L2)\n",
    "print(L1)"
   ]
  },
  {
   "cell_type": "markdown",
   "id": "2e76dc3b",
   "metadata": {},
   "source": [
    "## Remove list items"
   ]
  },
  {
   "cell_type": "code",
   "execution_count": 13,
   "id": "e389df13",
   "metadata": {},
   "outputs": [
    {
     "name": "stdout",
     "output_type": "stream",
     "text": [
      "['Disko']\n"
     ]
    }
   ],
   "source": [
    "L2.remove('Oraz')\n",
    "L2.pop(1)\n",
    "print(L2)"
   ]
  },
  {
   "cell_type": "markdown",
   "id": "47a72643",
   "metadata": {},
   "source": [
    "## loop list"
   ]
  },
  {
   "cell_type": "code",
   "execution_count": 14,
   "id": "828a822f",
   "metadata": {},
   "outputs": [
    {
     "name": "stdout",
     "output_type": "stream",
     "text": [
      "StudenID\n",
      "Yera\n",
      "Iskakov\n",
      "Kairatovich\n",
      "29-09-2004\n",
      "male\n",
      "ENU\n",
      "Oraz\n",
      "Disko\n",
      "09-09-04\n",
      "Oraz\n",
      "Disko\n",
      "09-09-04\n"
     ]
    }
   ],
   "source": [
    "for i in L1:\n",
    "    print(i)"
   ]
  },
  {
   "cell_type": "markdown",
   "id": "b7a6b048",
   "metadata": {},
   "source": [
    "## List comprehension"
   ]
  },
  {
   "cell_type": "code",
   "execution_count": 17,
   "id": "85db0e0b",
   "metadata": {},
   "outputs": [
    {
     "name": "stdout",
     "output_type": "stream",
     "text": [
      "['3', '4', '1']\n"
     ]
    }
   ],
   "source": [
    "L3= ['1', '2']\n",
    "L4 = ['3','4']\n",
    "for x in L3:\n",
    "    if '1' in x:\n",
    "        L4.append(x)\n",
    "print(L4)"
   ]
  },
  {
   "cell_type": "code",
   "execution_count": 20,
   "id": "e3a57a1c",
   "metadata": {},
   "outputs": [
    {
     "name": "stdout",
     "output_type": "stream",
     "text": [
      "['Yer', 'Yer', 'Yer', 'Yer', 'Yer', 'Yer', 'Yer', 'Yer', 'Yer', 'Yer', 'Yer', 'Yer', 'Yer', 0, 1, 2, 3, 4, 5, 6, 7, 8, 9]\n"
     ]
    }
   ],
   "source": [
    "L5 = ['Yer' for x in L1]\n",
    "L6 = [x for x in range(10)]\n",
    "print(L5+L6)"
   ]
  },
  {
   "cell_type": "markdown",
   "id": "753dcfeb",
   "metadata": {},
   "source": [
    "## Sort list"
   ]
  },
  {
   "cell_type": "code",
   "execution_count": 18,
   "id": "5dfe8c02",
   "metadata": {},
   "outputs": [
    {
     "name": "stdout",
     "output_type": "stream",
     "text": [
      "['1', '3', '4']\n"
     ]
    }
   ],
   "source": [
    "L4.sort()\n",
    "print(L4)"
   ]
  },
  {
   "cell_type": "code",
   "execution_count": 21,
   "id": "c6a82dd2",
   "metadata": {},
   "outputs": [
    {
     "name": "stdout",
     "output_type": "stream",
     "text": [
      "['4', '3', '1']\n"
     ]
    }
   ],
   "source": [
    "L4.reverse()\n",
    "print(L4)"
   ]
  },
  {
   "cell_type": "markdown",
   "id": "0773470c",
   "metadata": {},
   "source": [
    "## Copy list"
   ]
  },
  {
   "cell_type": "code",
   "execution_count": 22,
   "id": "719a6c17",
   "metadata": {
    "scrolled": true
   },
   "outputs": [
    {
     "name": "stdout",
     "output_type": "stream",
     "text": [
      "['StudenID', 'Yera', 'Iskakov', 'Kairatovich', '29-09-2004', 'male', 'ENU', 'Oraz', 'Disko', '09-09-04', 'Oraz', 'Disko', '09-09-04']\n"
     ]
    }
   ],
   "source": [
    "NL1 = L1.copy()\n",
    "print(NL1)"
   ]
  },
  {
   "cell_type": "code",
   "execution_count": 23,
   "id": "a4211ccd",
   "metadata": {},
   "outputs": [
    {
     "name": "stdout",
     "output_type": "stream",
     "text": [
      "['Disko']\n"
     ]
    }
   ],
   "source": [
    "NL2 = L2.copy()\n",
    "print(NL2)"
   ]
  },
  {
   "cell_type": "markdown",
   "id": "0629a948",
   "metadata": {},
   "source": [
    "## Join"
   ]
  },
  {
   "cell_type": "code",
   "execution_count": 24,
   "id": "5c849707",
   "metadata": {},
   "outputs": [
    {
     "data": {
      "text/plain": [
       "['StudenID',\n",
       " 'Yera',\n",
       " 'Iskakov',\n",
       " 'Kairatovich',\n",
       " '29-09-2004',\n",
       " 'male',\n",
       " 'ENU',\n",
       " 'Oraz',\n",
       " 'Disko',\n",
       " '09-09-04',\n",
       " 'Oraz',\n",
       " 'Disko',\n",
       " '09-09-04',\n",
       " 'Disko']"
      ]
     },
     "execution_count": 24,
     "metadata": {},
     "output_type": "execute_result"
    }
   ],
   "source": [
    "L1+L2"
   ]
  },
  {
   "cell_type": "markdown",
   "id": "cc2fb4f3",
   "metadata": {},
   "source": [
    "## Methods"
   ]
  },
  {
   "cell_type": "markdown",
   "id": "0990cf0f",
   "metadata": {},
   "source": [
    "append()\tAdds an element at the end of the list                          \n",
    "clear()\tRemoves all the elements from the list                        \n",
    "copy()\tReturns a copy of the list                                 \n",
    "count()\tReturns the number of elements with the specified value                        \n",
    "extend()\tAdd the elements of a list (or any iterable), to the end of the current list             \n",
    "index()\tReturns the index of the first element with the specified value         \n",
    "insert()\tAdds an element at the specified position             \n",
    "pop()\tRemoves the element at the specified position                \n",
    "reverse()\tReverses the order of the list       \n",
    "sort()\tSorts the list                          "
   ]
  },
  {
   "cell_type": "markdown",
   "id": "01f566f5",
   "metadata": {},
   "source": [
    "# Python turples "
   ]
  },
  {
   "cell_type": "markdown",
   "id": "abd2a5f5",
   "metadata": {},
   "source": [
    "## Access"
   ]
  },
  {
   "cell_type": "code",
   "execution_count": 3,
   "id": "5a64ecdb",
   "metadata": {},
   "outputs": [
    {
     "name": "stdout",
     "output_type": "stream",
     "text": [
      "This\n"
     ]
    }
   ],
   "source": [
    "T1 = ('This', 'is', 'turple', 'This', 'is', 'turple')\n",
    "T2 = (10, 15, 20, 25, 30)\n",
    "print(T1[0])"
   ]
  },
  {
   "cell_type": "markdown",
   "id": "8c7771ce",
   "metadata": {},
   "source": [
    "## Update"
   ]
  },
  {
   "cell_type": "code",
   "execution_count": 1,
   "id": "cdedd3b6",
   "metadata": {},
   "outputs": [
    {
     "name": "stdout",
     "output_type": "stream",
     "text": [
      "('USA', 'CHN', 'RUS')\n"
     ]
    }
   ],
   "source": [
    "x = (\"USA\", \"KAZ\", \"RUS\")\n",
    "y = list(x)\n",
    "y[1] = \"CHN\"\n",
    "x = tuple(y)\n",
    "\n",
    "print(x)"
   ]
  },
  {
   "cell_type": "code",
   "execution_count": 4,
   "id": "cdbaf8ca",
   "metadata": {},
   "outputs": [
    {
     "name": "stdout",
     "output_type": "stream",
     "text": [
      "('is', 'turple', 'This', 'is', 'turple')\n"
     ]
    }
   ],
   "source": [
    "y = list(T1)\n",
    "y.remove('This')\n",
    "T1 = tuple(y)\n",
    "print(T1)"
   ]
  },
  {
   "cell_type": "markdown",
   "id": "395349ad",
   "metadata": {},
   "source": [
    "## Unpack"
   ]
  },
  {
   "cell_type": "code",
   "execution_count": 32,
   "id": "7e497296",
   "metadata": {},
   "outputs": [
    {
     "name": "stdout",
     "output_type": "stream",
     "text": [
      "apple\n",
      "['mango', 'papaya', 'pineapple']\n",
      "cherry\n"
     ]
    }
   ],
   "source": [
    "fruits = (\"apple\", \"mango\", \"papaya\", \"pineapple\", \"cherry\")\n",
    "\n",
    "(green, *tropic, red) = fruits\n",
    "\n",
    "print(green)\n",
    "print(tropic)\n",
    "print(red)"
   ]
  },
  {
   "cell_type": "markdown",
   "id": "e89ca46d",
   "metadata": {},
   "source": [
    "## Loop"
   ]
  },
  {
   "cell_type": "code",
   "execution_count": 33,
   "id": "8aba24c9",
   "metadata": {},
   "outputs": [
    {
     "name": "stdout",
     "output_type": "stream",
     "text": [
      "turple\n"
     ]
    }
   ],
   "source": [
    "for x in T1:\n",
    "    print(x)"
   ]
  },
  {
   "cell_type": "markdown",
   "id": "63d5cb34",
   "metadata": {},
   "source": [
    "## Joinn"
   ]
  },
  {
   "cell_type": "code",
   "execution_count": 34,
   "id": "44470378",
   "metadata": {},
   "outputs": [
    {
     "name": "stdout",
     "output_type": "stream",
     "text": [
      "('turple', 10, 15, 20, 25, 30)\n"
     ]
    }
   ],
   "source": [
    "T3 = T1+T2\n",
    "print(T3)"
   ]
  },
  {
   "cell_type": "code",
   "execution_count": 35,
   "id": "2cfa203f",
   "metadata": {},
   "outputs": [
    {
     "name": "stdout",
     "output_type": "stream",
     "text": [
      "('turple', 10, 15, 20, 25, 30, 'turple', 10, 15, 20, 25, 30)\n"
     ]
    }
   ],
   "source": [
    "T4 = T3*2\n",
    "print(T4)"
   ]
  },
  {
   "cell_type": "markdown",
   "id": "a85f2279",
   "metadata": {},
   "source": [
    "## Turple Methods"
   ]
  },
  {
   "cell_type": "markdown",
   "id": "9fee5975",
   "metadata": {},
   "source": [
    "count()\tReturns the number of times a specified value occurs in a tuple                    \n",
    "index()\tSearches the tuple for a specified value and returns the position of where it was found"
   ]
  },
  {
   "cell_type": "markdown",
   "id": "029c392f",
   "metadata": {},
   "source": [
    "# Python sets"
   ]
  },
  {
   "cell_type": "markdown",
   "id": "3ff85b13",
   "metadata": {},
   "source": [
    "## Access"
   ]
  },
  {
   "cell_type": "code",
   "execution_count": 38,
   "id": "33e840e9",
   "metadata": {},
   "outputs": [
    {
     "name": "stdout",
     "output_type": "stream",
     "text": [
      "Hello\n",
      "Hi\n",
      "Goodday\n",
      "Ohayo\n"
     ]
    }
   ],
   "source": [
    "S = {'Hi', 'Hello', 'Goodday', 'Ohayo'}\n",
    "for s in S:\n",
    "    print(s)"
   ]
  },
  {
   "cell_type": "markdown",
   "id": "c559be0b",
   "metadata": {},
   "source": [
    "## Add set"
   ]
  },
  {
   "cell_type": "code",
   "execution_count": 40,
   "id": "bd3c8a9b",
   "metadata": {},
   "outputs": [
    {
     "name": "stdout",
     "output_type": "stream",
     "text": [
      "{'Hello', 'Goodday', 'Ohayo', 'Hi', 'Nihao'}\n"
     ]
    }
   ],
   "source": [
    "S.add('Nihao')\n",
    "print(S)"
   ]
  },
  {
   "cell_type": "code",
   "execution_count": 41,
   "id": "2d40d97a",
   "metadata": {},
   "outputs": [
    {
     "name": "stdout",
     "output_type": "stream",
     "text": [
      "{'Hello', 'Goodday', 'Ohayo', 'Salem', 'Hi', 'Nihao', 'Privet'}\n"
     ]
    }
   ],
   "source": [
    "S1 = {'Salem', 'Privet'}\n",
    "S.update(S1)\n",
    "print(S)"
   ]
  },
  {
   "cell_type": "markdown",
   "id": "cfdd3d52",
   "metadata": {},
   "source": [
    "## Remove set items"
   ]
  },
  {
   "cell_type": "code",
   "execution_count": 47,
   "id": "100d779a",
   "metadata": {},
   "outputs": [
    {
     "name": "stdout",
     "output_type": "stream",
     "text": [
      "{'Goodday', 'Ohayo', 'Salem', 'Nihao', 'Privet'}\n"
     ]
    }
   ],
   "source": [
    "S.remove('Hello')\n",
    "print(S)"
   ]
  },
  {
   "cell_type": "code",
   "execution_count": 48,
   "id": "968256ab",
   "metadata": {},
   "outputs": [
    {
     "name": "stdout",
     "output_type": "stream",
     "text": [
      "set()\n"
     ]
    }
   ],
   "source": [
    "S.clear()\n",
    "print(S)"
   ]
  },
  {
   "cell_type": "code",
   "execution_count": 49,
   "id": "9b6e0421",
   "metadata": {},
   "outputs": [
    {
     "name": "stdout",
     "output_type": "stream",
     "text": [
      "{'Goodday', 'Nihao', 'Privet', 'Ohayo'}\n"
     ]
    }
   ],
   "source": [
    "S4= {'Goodday', 'Ohayo', 'Salem', 'Nihao', 'Privet'}\n",
    "S4.discard('Salem')\n",
    "print(S4)"
   ]
  },
  {
   "cell_type": "markdown",
   "id": "0f0ff03f",
   "metadata": {},
   "source": [
    "## loop set"
   ]
  },
  {
   "cell_type": "code",
   "execution_count": 50,
   "id": "73fb667c",
   "metadata": {},
   "outputs": [
    {
     "name": "stdout",
     "output_type": "stream",
     "text": [
      "Goodday\n",
      "Nihao\n",
      "Privet\n",
      "Ohayo\n"
     ]
    }
   ],
   "source": [
    "for i in S4:\n",
    "    print(i)"
   ]
  },
  {
   "cell_type": "markdown",
   "id": "687f79d2",
   "metadata": {},
   "source": [
    "## join set"
   ]
  },
  {
   "cell_type": "code",
   "execution_count": 52,
   "id": "230e3b86",
   "metadata": {},
   "outputs": [
    {
     "name": "stdout",
     "output_type": "stream",
     "text": [
      "{1, 'c', 2, 'a', 3, 'b'}\n"
     ]
    }
   ],
   "source": [
    "set1 = {\"a\", \"b\" , \"c\"}\n",
    "set2 = {1, 2, 3}\n",
    "\n",
    "set3 = set1.union(set2)\n",
    "print(set3)"
   ]
  },
  {
   "cell_type": "code",
   "execution_count": 53,
   "id": "956ee6f5",
   "metadata": {},
   "outputs": [
    {
     "name": "stdout",
     "output_type": "stream",
     "text": [
      "{1, 'c', 2, 'a', 3, 'b'}\n"
     ]
    }
   ],
   "source": [
    "set1 = {\"a\", \"b\" , \"c\"}\n",
    "set2 = {1, 2, 3}\n",
    "\n",
    "set1.update(set2)\n",
    "print(set1)"
   ]
  },
  {
   "cell_type": "markdown",
   "id": "f4c655d0",
   "metadata": {},
   "source": [
    "## set methods"
   ]
  },
  {
   "cell_type": "markdown",
   "id": "2868a6e2",
   "metadata": {},
   "source": [
    "The intersection_update() method will keep only the items that are present in both sets."
   ]
  },
  {
   "cell_type": "markdown",
   "id": "a3f482c6",
   "metadata": {},
   "source": [
    "The symmetric_difference_update() method will keep only the elements that are NOT present in both sets."
   ]
  },
  {
   "cell_type": "markdown",
   "id": "8e25b136",
   "metadata": {},
   "source": [
    "The intersection() method will return a new set, that only contains the items that are present in both sets."
   ]
  },
  {
   "cell_type": "markdown",
   "id": "cb3c0ac3",
   "metadata": {},
   "source": [
    "add()\tAdds an element to the set      \n",
    "clear()\tRemoves all the elements the set                                 \n",
    "copy()\tReturns a copy of the set                   \n",
    "difference()\tReturns a set containing the difference between two or more sets           \n",
    "difference_update()\tRemoves the items in this set that are also included in another, specified set \n",
    "discard()\tRemove the specified item               \n",
    "intersection()\tReturns a set, that is the intersection of two other sets                \n",
    "intersection_update()\tRemoves the items in this set that are not present in other, specified set(s) \n",
    "isdisjoint()\tReturns whether two sets have a intersection or not            \n",
    "issubset()\tReturns whether another set contains this set or not            \n",
    "issuperset()\tReturns whether this set contains another set or not                        \n",
    "pop()\tRemoves an element from the set              \n",
    "remove()\tRemoves the specified element                                  \n",
    "symmetric_difference()\tReturns a set with the symmetric differences of two sets               \n",
    "symmetric_difference_update()\tinserts the symmetric differences from this set and another\n",
    "union()\tReturn a set containing the union of sets         \n",
    "update()\tUpdate the set with the union of this set and others                         "
   ]
  },
  {
   "cell_type": "markdown",
   "id": "f027e3f2",
   "metadata": {},
   "source": [
    "# Python dictionaries"
   ]
  },
  {
   "cell_type": "markdown",
   "id": "07546de2",
   "metadata": {},
   "source": [
    "## Access items"
   ]
  },
  {
   "cell_type": "code",
   "execution_count": 59,
   "id": "66c24084",
   "metadata": {},
   "outputs": [
    {
     "name": "stdout",
     "output_type": "stream",
     "text": [
      "{'Stud': 'Yera', 'Course': 2, 'Univ': 'ENU'}\n",
      "Yera\n"
     ]
    }
   ],
   "source": [
    "D1 = {'Stud': 'Yera', 'Course':2, 'Univ':'ENU'}\n",
    "print(D1)\n",
    "print(D1['Stud'])"
   ]
  },
  {
   "cell_type": "code",
   "execution_count": 61,
   "id": "31ff20ae",
   "metadata": {},
   "outputs": [
    {
     "name": "stdout",
     "output_type": "stream",
     "text": [
      "dict_keys(['Stud', 'Course', 'Univ'])\n"
     ]
    }
   ],
   "source": [
    "x = D1.keys()\n",
    "print(x)"
   ]
  },
  {
   "cell_type": "code",
   "execution_count": 62,
   "id": "5abe1c8b",
   "metadata": {},
   "outputs": [
    {
     "name": "stdout",
     "output_type": "stream",
     "text": [
      "dict_items([('Stud', 'Yera'), ('Course', 2), ('Univ', 'ENU')])\n"
     ]
    }
   ],
   "source": [
    "k = D1.items()\n",
    "print(k)"
   ]
  },
  {
   "cell_type": "markdown",
   "id": "450b1c5e",
   "metadata": {},
   "source": [
    "## Change items"
   ]
  },
  {
   "cell_type": "code",
   "execution_count": 63,
   "id": "5f79ad7f",
   "metadata": {},
   "outputs": [
    {
     "name": "stdout",
     "output_type": "stream",
     "text": [
      "{'Stud': 'Yerassyl', 'Course': 2, 'Univ': 'ENU', 'Birth': '2004'}\n"
     ]
    }
   ],
   "source": [
    "D1['Stud']='Yerassyl'\n",
    "D1['Birth'] = '2004'\n",
    "print(D1)"
   ]
  },
  {
   "cell_type": "code",
   "execution_count": 65,
   "id": "9eda251a",
   "metadata": {},
   "outputs": [
    {
     "name": "stdout",
     "output_type": "stream",
     "text": [
      "{'Stud': 'Yerassyl', 'Course': 2, 'Univ': 'Eurasian', 'Birth': '2004'}\n"
     ]
    }
   ],
   "source": [
    "D1.update({'Univ':'Eurasian'})\n",
    "print(D1)"
   ]
  },
  {
   "cell_type": "code",
   "execution_count": 67,
   "id": "786fbb8c",
   "metadata": {},
   "outputs": [
    {
     "name": "stdout",
     "output_type": "stream",
     "text": [
      "{'Stud': 'Yerassyl', 'Course': 2}\n"
     ]
    }
   ],
   "source": [
    "D1.popitem()\n",
    "print(D1)"
   ]
  },
  {
   "cell_type": "markdown",
   "id": "889117d7",
   "metadata": {},
   "source": [
    "## Add items"
   ]
  },
  {
   "cell_type": "markdown",
   "id": "ee42e51e",
   "metadata": {},
   "source": [
    "showed above"
   ]
  },
  {
   "cell_type": "markdown",
   "id": "00d759ca",
   "metadata": {},
   "source": [
    "## remove items"
   ]
  },
  {
   "cell_type": "code",
   "execution_count": 66,
   "id": "227d1347",
   "metadata": {},
   "outputs": [
    {
     "name": "stdout",
     "output_type": "stream",
     "text": [
      "{'Stud': 'Yerassyl', 'Course': 2, 'Birth': '2004'}\n"
     ]
    }
   ],
   "source": [
    "D1.pop('Univ')\n",
    "print(D1)"
   ]
  },
  {
   "cell_type": "markdown",
   "id": "a665d913",
   "metadata": {},
   "source": [
    "## loop dictionaries"
   ]
  },
  {
   "cell_type": "code",
   "execution_count": 69,
   "id": "b0b3273a",
   "metadata": {},
   "outputs": [
    {
     "name": "stdout",
     "output_type": "stream",
     "text": [
      "Stud\n",
      "Course\n"
     ]
    }
   ],
   "source": [
    "for x in D1:\n",
    "  print(x)"
   ]
  },
  {
   "cell_type": "code",
   "execution_count": 70,
   "id": "33adad8c",
   "metadata": {},
   "outputs": [
    {
     "name": "stdout",
     "output_type": "stream",
     "text": [
      "Yerassyl\n",
      "2\n"
     ]
    }
   ],
   "source": [
    "for x in D1:\n",
    "  print(D1[x])"
   ]
  },
  {
   "cell_type": "markdown",
   "id": "0e5d2c17",
   "metadata": {},
   "source": [
    "## copy dictionaries"
   ]
  },
  {
   "cell_type": "code",
   "execution_count": 71,
   "id": "febc5c3c",
   "metadata": {},
   "outputs": [
    {
     "name": "stdout",
     "output_type": "stream",
     "text": [
      "{'Stud': 'Yerassyl', 'Course': 2}\n"
     ]
    }
   ],
   "source": [
    "mydict = D1.copy()\n",
    "print(mydict)"
   ]
  },
  {
   "cell_type": "code",
   "execution_count": 72,
   "id": "35c17c0f",
   "metadata": {},
   "outputs": [
    {
     "name": "stdout",
     "output_type": "stream",
     "text": [
      "{'Stud': 'Yerassyl', 'Course': 2}\n"
     ]
    }
   ],
   "source": [
    "mydict1 = dict(D1)\n",
    "print(mydict1)"
   ]
  },
  {
   "cell_type": "markdown",
   "id": "b628dd0a",
   "metadata": {},
   "source": [
    "## nested dictionaries"
   ]
  },
  {
   "cell_type": "markdown",
   "id": "d3830867",
   "metadata": {},
   "source": [
    "A dictionary can contain dictionaries, this is called nested dictionaries."
   ]
  },
  {
   "cell_type": "markdown",
   "id": "b5595b3c",
   "metadata": {},
   "source": [
    "## dictionary methods"
   ]
  },
  {
   "cell_type": "markdown",
   "id": "4f39bac0",
   "metadata": {},
   "source": [
    "clear()\tRemoves all the elements from the dictionary     \n",
    "copy()\tReturns a copy of the dictionary                \n",
    "fromkeys()\tReturns a dictionary with the specified keys and value               \n",
    "get()\tReturns the value of the specified key              \n",
    "items()\tReturns a list containing a tuple for each key value pair               \n",
    "keys()\tReturns a list containing the dictionary's keys              \n",
    "pop()\tRemoves the element with the specified key                            \n",
    "popitem()\tRemoves the last inserted key-value pair            \n",
    "setdefault()\tReturns the value of the specified key. If the key does not exist: insert the key, with the specified value\n",
    "update()\tUpdates the dictionary with the specified key-value pairs           \n",
    "values()\tReturns a list of all the values in the dictionary         "
   ]
  },
  {
   "cell_type": "markdown",
   "id": "214b840d",
   "metadata": {},
   "source": [
    "# While LOOP"
   ]
  },
  {
   "cell_type": "code",
   "execution_count": 73,
   "id": "012d18ba",
   "metadata": {},
   "outputs": [
    {
     "name": "stdout",
     "output_type": "stream",
     "text": [
      "1\n",
      "2\n",
      "3\n"
     ]
    }
   ],
   "source": [
    "i = 1\n",
    "while i < 4:\n",
    "  print(i)\n",
    "  i += 1"
   ]
  },
  {
   "cell_type": "code",
   "execution_count": 74,
   "id": "ed51c5df",
   "metadata": {},
   "outputs": [
    {
     "name": "stdout",
     "output_type": "stream",
     "text": [
      "1\n",
      "2\n",
      "3\n"
     ]
    }
   ],
   "source": [
    "i = 1\n",
    "while i < 6:\n",
    "  print(i)\n",
    "  if i == 3:\n",
    "    break\n",
    "  i += 1"
   ]
  },
  {
   "cell_type": "code",
   "execution_count": 75,
   "id": "16497458",
   "metadata": {},
   "outputs": [
    {
     "name": "stdout",
     "output_type": "stream",
     "text": [
      "1\n",
      "2\n",
      "4\n",
      "5\n",
      "6\n"
     ]
    }
   ],
   "source": [
    "i = 0\n",
    "while i < 6:\n",
    "  i += 1\n",
    "  if i == 3:\n",
    "    continue\n",
    "  print(i)"
   ]
  },
  {
   "cell_type": "code",
   "execution_count": 76,
   "id": "3add7598",
   "metadata": {},
   "outputs": [
    {
     "name": "stdout",
     "output_type": "stream",
     "text": [
      "1\n",
      "2\n",
      "3\n",
      "4\n",
      "5\n",
      "i is no longer less than 6\n"
     ]
    }
   ],
   "source": [
    "i = 1\n",
    "while i < 6:\n",
    "  print(i)\n",
    "  i += 1\n",
    "else:\n",
    "  print(\"i is no longer less than 6\")"
   ]
  },
  {
   "cell_type": "markdown",
   "id": "a3cdce4f",
   "metadata": {},
   "source": [
    "# FOR lOOP"
   ]
  },
  {
   "cell_type": "code",
   "execution_count": 78,
   "id": "80f64ec6",
   "metadata": {},
   "outputs": [
    {
     "name": "stdout",
     "output_type": "stream",
     "text": [
      "0\n",
      "1\n",
      "2\n",
      "3\n",
      "4\n"
     ]
    }
   ],
   "source": [
    "for i in range(5):\n",
    "    print(i)"
   ]
  },
  {
   "cell_type": "code",
   "execution_count": 80,
   "id": "9b08ec1d",
   "metadata": {},
   "outputs": [
    {
     "name": "stdout",
     "output_type": "stream",
     "text": [
      "3\n",
      "6\n",
      "9\n",
      "12\n",
      "15\n",
      "18\n",
      "21\n",
      "24\n",
      "27\n"
     ]
    }
   ],
   "source": [
    "for x in range(3, 30, 3):\n",
    "  print(x)"
   ]
  },
  {
   "cell_type": "code",
   "execution_count": 5,
   "id": "4bdb1141",
   "metadata": {},
   "outputs": [
    {
     "name": "stdout",
     "output_type": "stream",
     "text": [
      "KAZ wholsome\n",
      "KAZ beautiful\n",
      "KAZ best\n",
      "KRG wholsome\n",
      "KRG beautiful\n",
      "KRG best\n",
      "UZB wholsome\n",
      "UZB beautiful\n",
      "UZB best\n"
     ]
    }
   ],
   "source": [
    "Co = [\"KAZ\", \"KRG\", \"UZB\"]\n",
    "adj = [\"wholsome\", \"beautiful\", \"best\"]\n",
    "\n",
    "for x in Co:\n",
    "  for y in adj:\n",
    "    print(x, y)"
   ]
  },
  {
   "cell_type": "markdown",
   "id": "51f9b277",
   "metadata": {},
   "source": [
    "#                                   REAL TASK"
   ]
  },
  {
   "cell_type": "markdown",
   "id": "fd9a2600",
   "metadata": {},
   "source": [
    "## Task 2 Runner-up score "
   ]
  },
  {
   "cell_type": "code",
   "execution_count": 1,
   "id": "e05ed2a3",
   "metadata": {},
   "outputs": [
    {
     "name": "stdout",
     "output_type": "stream",
     "text": [
      "5\n",
      "2 3 6 6 5\n",
      "5\n"
     ]
    }
   ],
   "source": [
    "n = int(input())\n",
    "s = input().split()\n",
    "S = [] #New List\n",
    "\n",
    "for x in s: #Add from old to new\n",
    "    S.append(int(x))\n",
    "\n",
    "S.sort(reverse=True)\n",
    "\n",
    "for i in range(n):\n",
    "    if S[0] != S[i]:\n",
    "        print(S[i])\n",
    "        break"
   ]
  },
  {
   "cell_type": "markdown",
   "id": "54a70a7c",
   "metadata": {},
   "source": [
    "## Task 3"
   ]
  },
  {
   "cell_type": "code",
   "execution_count": 2,
   "id": "a652d431",
   "metadata": {},
   "outputs": [
    {
     "name": "stdout",
     "output_type": "stream",
     "text": [
      "Enter the x coor: 1\n",
      "Enter the y coor: 1\n",
      "Enter the z coor: 1\n",
      "Number: 2\n",
      "[[0, 0, 0], [0, 0, 1], [0, 1, 0], [1, 0, 0], [1, 1, 1]]\n"
     ]
    }
   ],
   "source": [
    "x = int(input('Enter the x coor: '))\n",
    "y = int(input('Enter the y coor: '))\n",
    "z = int(input('Enter the z coor: '))\n",
    "\n",
    "res = []\n",
    "coor = []\n",
    "\n",
    "n = int(input('Number: '))\n",
    "\n",
    "\n",
    "for a in range(x+1):\n",
    "        for b in range(y+1):\n",
    "            for c in range(z+1):\n",
    "                if a+b+c != n:\n",
    "                    coor = [a,b,c] #save coordinate\n",
    "                    res.append(coor)\n",
    "print(res)"
   ]
  },
  {
   "cell_type": "markdown",
   "id": "5e16a21b",
   "metadata": {},
   "source": [
    "## Task 4"
   ]
  },
  {
   "cell_type": "code",
   "execution_count": 1,
   "id": "e7b645fb",
   "metadata": {},
   "outputs": [
    {
     "name": "stdout",
     "output_type": "stream",
     "text": [
      "5\n",
      "1\n",
      "22\n",
      "333\n",
      "4444\n",
      "55555\n"
     ]
    }
   ],
   "source": [
    "size = int(input())\n",
    "for i in range(1, size + 1):\n",
    "     print(str(i) * i) "
   ]
  },
  {
   "cell_type": "markdown",
   "id": "8b22ac67",
   "metadata": {},
   "source": [
    "## Task 5"
   ]
  },
  {
   "cell_type": "code",
   "execution_count": 4,
   "id": "da62284c",
   "metadata": {},
   "outputs": [
    {
     "name": "stdout",
     "output_type": "stream",
     "text": [
      "5\n",
      "Harry\n",
      "37.21\n",
      "Berry\n",
      "37.21\n",
      "Tin\n",
      "37.2\n",
      "Akir\n",
      "41\n",
      "Has\n",
      "39\n",
      "Berry\n",
      "Harry\n"
     ]
    }
   ],
   "source": [
    "scr = []\n",
    "data = []\n",
    "j = int(input())\n",
    "for i in range(j):\n",
    "    name = input()\n",
    "    score = float(input())\n",
    "    data.append([name, score])\n",
    "    scr.append(score)\n",
    "\n",
    "scr.sort()  #score list\n",
    "scnd = 0 #second min\n",
    "mini = scr[0]\n",
    "data.sort()\n",
    "\n",
    "for a in scr:\n",
    "    if a != mini:\n",
    "        scnd = a\n",
    "        break\n",
    "\n",
    "for b in data:\n",
    "    if b[1] == scnd:\n",
    "        print(b[0])"
   ]
  },
  {
   "cell_type": "markdown",
   "id": "fe6bec76",
   "metadata": {},
   "source": [
    "## Task 6       open in IDLE work there"
   ]
  },
  {
   "cell_type": "code",
   "execution_count": 2,
   "id": "bbfdb1cf",
   "metadata": {},
   "outputs": [
    {
     "name": "stdout",
     "output_type": "stream",
     "text": [
      "3\n",
      "\n"
     ]
    },
    {
     "ename": "IndexError",
     "evalue": "list index out of range",
     "output_type": "error",
     "traceback": [
      "\u001b[1;31m---------------------------------------------------------------------------\u001b[0m",
      "\u001b[1;31mIndexError\u001b[0m                                Traceback (most recent call last)",
      "Cell \u001b[1;32mIn[2], line 6\u001b[0m\n\u001b[0;32m      4\u001b[0m \u001b[38;5;28;01mfor\u001b[39;00m i \u001b[38;5;129;01min\u001b[39;00m \u001b[38;5;28mrange\u001b[39m(n):\n\u001b[0;32m      5\u001b[0m     inf \u001b[38;5;241m=\u001b[39m \u001b[38;5;28minput\u001b[39m()\u001b[38;5;241m.\u001b[39msplit()\n\u001b[1;32m----> 6\u001b[0m     name \u001b[38;5;241m=\u001b[39m inf[\u001b[38;5;241m0\u001b[39m]\n\u001b[0;32m      7\u001b[0m     scores \u001b[38;5;241m=\u001b[39m []\n\u001b[0;32m      8\u001b[0m     \u001b[38;5;28;01mfor\u001b[39;00m score \u001b[38;5;129;01min\u001b[39;00m inf[\u001b[38;5;241m1\u001b[39m:]:\n",
      "\u001b[1;31mIndexError\u001b[0m: list index out of range"
     ]
    }
   ],
   "source": [
    "n = int(input())\n",
    "store = {}\n",
    "\n",
    "for i in range(n):\n",
    "    inf = input().split()\n",
    "    name = inf[0]\n",
    "    scores = []\n",
    "    for score in inf[1:]:\n",
    "        scores.append(int(score))\n",
    "    store[name] = scores # add into dictionar\n",
    "\n",
    "se = input() #search spec person\n",
    "output = store[se]\n",
    "average = sum(output) / len(output)\n",
    "print(average)"
   ]
  },
  {
   "cell_type": "code",
   "execution_count": 2,
   "id": "6824bdf5",
   "metadata": {},
   "outputs": [
    {
     "name": "stdout",
     "output_type": "stream",
     "text": [
      "3\n",
      "Kyle 50\n",
      "Kdd 78 78 59 45\n",
      "Luke 56 85 78\n",
      "[56, 85, 78]\n",
      "{'Kyle': [50], 'Kdd': [78, 78, 59, 45], 'Luke': [56, 85, 78]}\n",
      "Kyle\n",
      "50.0\n"
     ]
    }
   ],
   "source": [
    "n = int(input())\n",
    "store = {}\n",
    "\n",
    "for i in range(n):\n",
    "    inf = input().split()\n",
    "    name = inf[0]\n",
    "    scores = list(map(int, inf[1:]))\n",
    "    store[name] = scores  # Add into dictionary\n",
    "print(scores)\n",
    "print(store)\n",
    "    \n",
    "se = input()  # Search specific person\n",
    "output = store[se]\n",
    "average = sum(output) / len(output)\n",
    "print(average)\n"
   ]
  },
  {
   "cell_type": "code",
   "execution_count": null,
   "id": "f23e9ead",
   "metadata": {},
   "outputs": [],
   "source": []
  }
 ],
 "metadata": {
  "kernelspec": {
   "display_name": "Python 3 (ipykernel)",
   "language": "python",
   "name": "python3"
  },
  "language_info": {
   "codemirror_mode": {
    "name": "ipython",
    "version": 3
   },
   "file_extension": ".py",
   "mimetype": "text/x-python",
   "name": "python",
   "nbconvert_exporter": "python",
   "pygments_lexer": "ipython3",
   "version": "3.11.4"
  }
 },
 "nbformat": 4,
 "nbformat_minor": 5
}
